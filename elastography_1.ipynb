{
 "cells": [
  {
   "cell_type": "markdown",
   "metadata": {
    "id": "XGqF3nYNnQ8c"
   },
   "source": [
    "# \"A neural network for elastography (part 1)\"\n",
    "> \"Let's train a neural network to solve a typical problem encountered in elastography\"\n",
    "\n",
    "- toc: true \n",
    "- badges: true\n",
    "- comments: false\n",
    "- categories: [elastography]\n",
    "- author: Lucas Almeida Rocha"
   ]
  },
  {
   "cell_type": "markdown",
   "metadata": {
    "id": "evNFxQUkLBkH"
   },
   "source": [
    "## Introduction"
   ]
  },
  {
   "cell_type": "markdown",
   "metadata": {
    "id": "XWW4F4ZuuSta"
   },
   "source": [
    "[Elastography](https://en.wikipedia.org/wiki/Elastography) is a medical imaging that informs us about the stiffness of a soft tissue. This information is relevant because many diseases form harder tissues. For instance, tumours, thrombus and diseased liver tissue are usually harder than their surrounding tissues.\n",
    "\n",
    "The basic idea is to:\n",
    "1. apply some deformation in the tissue. It can be done manually, with a probe, or we could even use our own heartbeat.\n",
    "2. measure how much the tissue moves. This is the displacement field and can be measured with ultrasound, magnetic resonance imaging (MRI), etc.\n",
    "3. calculate the stiffness of the tissue or some other elastic property.\n",
    "\n",
    "\n",
    "The third step is called *Inverse Problem*. It receives this name, because the usual problem is to determine the displacement field from a known stiffness (this would be the *Direct Problem*) and the inverse problem does the opposite. There are mainly two ways to solve the inverse problem:\n",
    "- Directly: we just solve the governing equations of the problem. This approach is relatively fast and simple, but it suffers from the noise present in the displacement field measured.\n",
    "- Iteratively: we keep updating the stiffness until we find one such as, when we solve the direct problem, we obtain a displacement field very similar to the measured one. This approach is in theory more robust to noise, but it is much slower and more complicate to use in practice, because it involves some parameter tweaking.\n",
    "\n",
    "If you want to know more about elastography and these two approaches, check out [Fovargue, Nordsletten and Sinkus (2018)](https://dx.doi.org/10.1002%2Fnbm.3935).\n",
    "\n",
    "We will solve this inverse problem in a different way. We will use a neural network! Recently, authors seem to be giving some attention to this approach. See for instance [Kibria and Rivaz (2018)](https://arxiv.org/abs/1805.07493) and [Solamen, Shi and Amoh (2018)](https://arxiv.org/abs/1812.00441). The main advantage is that this approach is fast (after the neural network is trained, of course) and robust to noise. A major limitation is the necessity of training data, but *transfer learning* could be a way to overcome it. Models could be pre-trained with synthetic data and then fine-tuned with a small number of real clinical data samples.\n",
    "\n",
    "Creating synthetic data takes some time, but lucky for us, [Lejeune (2020)](https://doi.org/10.1016/j.eml.2020.100659) did it. She created the [Mechanical MNIST](https://open.bu.edu/handle/2144/39371), which is a collection of datasets of finite element simulations, where heterogeneous blocks composed of Neo-Hookean material are subjected to some kind of loading. It can be uniaxial extension, confined compression, shear, etc. The blocks are essentially a soft material with a hard inclusion, whose shape is a handwritten digit from the famous [MNIST Dataset](http://www.pymvpa.org/datadb/mnist.html). The value of each pixel was converted to a Young modulus, which was used in the finite element simulations to obtain the displacement field. Young modulus is a measure of stiffness of a solid material, so let's call it just \"stiffness\".\n",
    "\n",
    "Enough talk, let's code!\n",
    "\n",
    "We will make our neural network with [PyTorch](https://pytorch.org/) and [fastai](https://www.fast.ai/). PyTorch is a widely used Python library developed by Facebook for machine and deep learning. Fastai is a deep learning library built on Pytorch. It provides high-level and low-level components that simplifies many aspects of a deep learning project."
   ]
  },
  {
   "cell_type": "markdown",
   "metadata": {
    "id": "XWW4F4ZuuSta"
   },
   "source": [
    ">Note: I won't explain the details about neural networks, PyTorch or fastai. If you want to learn more about them, I recommend the [Deep Learning Specialization by deeplearning.ai on Coursera](https://www.coursera.org/specializations/deep-learning) for the first and the [fastai MOOC](https://course.fast.ai/) for the last two."
   ]
  },
  {
   "cell_type": "markdown",
   "metadata": {
    "id": "XWW4F4ZuuSta"
   },
   "source": [
    "If you're using Colab, you need to install these libraries. They are not installed by default."
   ]
  },
  {
   "cell_type": "code",
   "execution_count": null,
   "metadata": {
    "id": "RTMNqrHPfsi2"
   },
   "outputs": [],
   "source": [
    "!pip install torch\n",
    "!pip install fastai\n",
    "!pip install fastai --upgrade -q"
   ]
  },
  {
   "cell_type": "markdown",
   "metadata": {
    "id": "xDL8Iif4wTdJ"
   },
   "source": [
    "Now we download and unzip the data that we will use for the training. We will use only the fifth step of the uniaxial extension from [Mechanical MNIST](https://open.bu.edu/handle/2144/39371).\n",
    "\n",
    "The data contain the displacement field and handwritten digits from [MNIST Dataset](http://www.pymvpa.org/datadb/mnist.html), which represents the soft background material and the inclusion."
   ]
  },
  {
   "cell_type": "code",
   "execution_count": null,
   "metadata": {
    "id": "hf-eeSwXqjg7"
   },
   "outputs": [],
   "source": [
    "import os.path\n",
    "if not os.path.exists('MNIST_input_files.zip'):\n",
    "  !wget https://open.bu.edu/bitstream/handle/2144/38693/MNIST_input_files.zip\n",
    "\n",
    "if not os.path.exists('FEA_displacement_results_step5.zip'):\n",
    "  !wget https://open.bu.edu/bitstream/handle/2144/38693/FEA_displacement_results_step5.zip\n",
    "\n",
    "!unzip -n \"MNIST_input_files.zip\" -d \".\"                        # replace \"-n\" with \"-o\" if you wish to overwrite existing files\n",
    "!unzip -n \"FEA_displacement_results_step5.zip\" -d \"uniaxial/\""
   ]
  },
  {
   "cell_type": "markdown",
   "metadata": {
    "id": "az-PcZB42y-g"
   },
   "source": [
    "Let's import some libraries."
   ]
  },
  {
   "cell_type": "code",
   "execution_count": null,
   "metadata": {
    "id": "NtqbYjl2rbji"
   },
   "outputs": [],
   "source": [
    "from pathlib import Path\n",
    "import pandas as pd\n",
    "import torch\n",
    "from fastai.vision.all import *"
   ]
  },
  {
   "cell_type": "markdown",
   "metadata": {
    "id": "smIABmFuVpAT"
   },
   "source": [
    "## Data preparation"
   ]
  },
  {
   "cell_type": "markdown",
   "metadata": {
    "id": "oxAMdfTZ3M72"
   },
   "source": [
    "We load the data from the text files to pytorch tensors. Don't worry, the data is small."
   ]
  },
  {
   "cell_type": "code",
   "execution_count": null,
   "metadata": {
    "colab": {
     "base_uri": "https://localhost:8080/",
     "height": 34
    },
    "executionInfo": {
     "elapsed": 104875,
     "status": "ok",
     "timestamp": 1601846754470,
     "user": {
      "displayName": "Lucas Almeida Rocha",
      "photoUrl": "",
      "userId": "10237817634386723741"
     },
     "user_tz": 180
    },
    "id": "2B0MTDfbHiSy",
    "outputId": "8472605f-7aad-4440-84cd-dfc861ee8145"
   },
   "outputs": [
    {
     "data": {
      "text/plain": [
       "(torch.Size([60000, 784]), torch.Size([10000, 784]))"
      ]
     },
     "execution_count": 8,
     "metadata": {
      "tags": []
     },
     "output_type": "execute_result"
    }
   ],
   "source": [
    "df = pd.read_csv('MNIST_input_files/mnist_img_train.txt', sep=' ', header=None)\n",
    "imgs_train = torch.tensor(df.values)\n",
    "\n",
    "df = pd.read_csv('MNIST_input_files/mnist_img_test.txt', sep=' ', header=None)\n",
    "imgs_valid = torch.tensor(df.values)\n",
    "\n",
    "imgs_train.shape, imgs_valid.shape"
   ]
  },
  {
   "cell_type": "code",
   "execution_count": null,
   "metadata": {
    "colab": {
     "base_uri": "https://localhost:8080/",
     "height": 84
    },
    "executionInfo": {
     "elapsed": 120150,
     "status": "ok",
     "timestamp": 1601846769754,
     "user": {
      "displayName": "Lucas Almeida Rocha",
      "photoUrl": "",
      "userId": "10237817634386723741"
     },
     "user_tz": 180
    },
    "id": "spyDqYeuJQ6t",
    "outputId": "37fd9e74-2ab5-4689-a153-2a608b84a386"
   },
   "outputs": [
    {
     "data": {
      "text/plain": [
       "(torch.Size([60000, 784]),\n",
       " torch.Size([60000, 784]),\n",
       " torch.Size([10000, 784]),\n",
       " torch.Size([10000, 784]))"
      ]
     },
     "execution_count": 9,
     "metadata": {
      "tags": []
     },
     "output_type": "execute_result"
    }
   ],
   "source": [
    "df = pd.read_csv('uniaxial/FEA_displacement_results_step5/summary_dispx_train_step5.txt', sep=' ', header=None)\n",
    "ux5s_train = torch.tensor(df.values)\n",
    "\n",
    "df = pd.read_csv('uniaxial/FEA_displacement_results_step5/summary_dispy_train_step5.txt', sep=' ', header=None)\n",
    "uy5s_train = torch.tensor(df.values)\n",
    "\n",
    "df = pd.read_csv('uniaxial/FEA_displacement_results_step5/summary_dispx_test_step5.txt', sep=' ', header=None)\n",
    "ux5s_valid = torch.tensor(df.values)\n",
    "\n",
    "df = pd.read_csv('uniaxial/FEA_displacement_results_step5/summary_dispy_test_step5.txt', sep=' ', header=None)\n",
    "uy5s_valid = torch.tensor(df.values)\n",
    "\n",
    "\n",
    "ux5s_train.shape, uy5s_train.shape, ux5s_valid.shape, uy5s_valid.shape"
   ]
  },
  {
   "cell_type": "markdown",
   "metadata": {
    "id": "pLjj9Dn-4hCo"
   },
   "source": [
    "We reshape the tensors, so we can show it as regular images with one channel."
   ]
  },
  {
   "cell_type": "code",
   "execution_count": null,
   "metadata": {
    "colab": {
     "base_uri": "https://localhost:8080/",
     "height": 118
    },
    "executionInfo": {
     "elapsed": 120142,
     "status": "ok",
     "timestamp": 1601846769755,
     "user": {
      "displayName": "Lucas Almeida Rocha",
      "photoUrl": "",
      "userId": "10237817634386723741"
     },
     "user_tz": 180
    },
    "id": "oZVweLqc_Y4X",
    "outputId": "118bfbbc-424b-4597-a227-05ae709ac408"
   },
   "outputs": [
    {
     "data": {
      "text/plain": [
       "(torch.Size([60000, 1, 28, 28]),\n",
       " torch.Size([60000, 1, 28, 28]),\n",
       " torch.Size([10000, 1, 28, 28]),\n",
       " torch.Size([10000, 1, 28, 28]),\n",
       " torch.Size([60000, 1, 28, 28]),\n",
       " torch.Size([10000, 1, 28, 28]))"
      ]
     },
     "execution_count": 10,
     "metadata": {
      "tags": []
     },
     "output_type": "execute_result"
    }
   ],
   "source": [
    "ux5s_train = torch.reshape(ux5s_train, (-1,1,28,28))\n",
    "uy5s_train = torch.reshape(uy5s_train, (-1,1,28,28))\n",
    "ux5s_valid = torch.reshape(ux5s_valid, (-1,1,28,28))\n",
    "uy5s_valid = torch.reshape(uy5s_valid, (-1,1,28,28))\n",
    "\n",
    "imgs_train = torch.reshape(imgs_train, (-1,1,28,28))\n",
    "imgs_valid = torch.reshape(imgs_valid, (-1,1,28,28))\n",
    "\n",
    "ux5s_train.shape, uy5s_train.shape, ux5s_valid.shape, uy5s_valid.shape, imgs_train.shape, imgs_valid.shape"
   ]
  },
  {
   "cell_type": "markdown",
   "metadata": {
    "id": "F1TGKmw058aP"
   },
   "source": [
    "Let's take a look in our data."
   ]
  },
  {
   "cell_type": "code",
   "execution_count": null,
   "metadata": {
    "colab": {
     "base_uri": "https://localhost:8080/",
     "height": 170
    },
    "executionInfo": {
     "elapsed": 120135,
     "status": "ok",
     "timestamp": 1601846769756,
     "user": {
      "displayName": "Lucas Almeida Rocha",
      "photoUrl": "",
      "userId": "10237817634386723741"
     },
     "user_tz": 180
    },
    "id": "oPJf45WRMZq-",
    "outputId": "dd68494f-b985-488d-8fae-a88751ef6d03"
   },
   "outputs": [
    {
     "data": {
      "text/plain": [
       "<matplotlib.axes._subplots.AxesSubplot at 0x7fd5559b47f0>"
      ]
     },
     "execution_count": 11,
     "metadata": {
      "tags": []
     },
     "output_type": "execute_result"
    },
    {
     "data": {
      "image/png": "[encoded data removed]",
      "text/plain": [
       "<Figure size 72x72 with 1 Axes>"
      ]
     },
     "metadata": {
      "needs_background": "light",
      "tags": []
     },
     "output_type": "display_data"
    },
    {
     "data": {
      "image/png": "[encoded data removed]",
      "text/plain": [
       "<Figure size 72x72 with 1 Axes>"
      ]
     },
     "metadata": {
      "needs_background": "light",
      "tags": []
     },
     "output_type": "display_data"
    }
   ],
   "source": [
    "show_image(imgs_train[2], cmap='Greys')\n",
    "show_image(uy5s_train[2], cmap='Greys')"
   ]
  },
  {
   "cell_type": "markdown",
   "metadata": {
    "id": "uRDpXU8H6DBv"
   },
   "source": [
    "The displacement field seems inverted, let's fix it."
   ]
  },
  {
   "cell_type": "code",
   "execution_count": null,
   "metadata": {
    "id": "X9zMQ1mULrmd"
   },
   "outputs": [],
   "source": [
    "ux5s_train = torch.flip(ux5s_train, dims=[1,2])\n",
    "uy5s_train = torch.flip(uy5s_train, dims=[1,2])\n",
    "ux5s_valid = torch.flip(ux5s_valid, dims=[1,2])\n",
    "uy5s_valid = torch.flip(uy5s_valid, dims=[1,2])"
   ]
  },
  {
   "cell_type": "code",
   "execution_count": null,
   "metadata": {
    "colab": {
     "base_uri": "https://localhost:8080/",
     "height": 170
    },
    "executionInfo": {
     "elapsed": 127693,
     "status": "ok",
     "timestamp": 1601846777324,
     "user": {
      "displayName": "Lucas Almeida Rocha",
      "photoUrl": "",
      "userId": "10237817634386723741"
     },
     "user_tz": 180
    },
    "id": "WGABVX1-MrYQ",
    "outputId": "e1ba860e-3ec7-472b-9744-b6846fc2a6f3"
   },
   "outputs": [
    {
     "data": {
      "text/plain": [
       "<matplotlib.axes._subplots.AxesSubplot at 0x7fd5559bbc18>"
      ]
     },
     "execution_count": 13,
     "metadata": {
      "tags": []
     },
     "output_type": "execute_result"
    },
    {
     "data": {
      "image/png": "[encoded data removed]",
      "text/plain": [
       "<Figure size 72x72 with 1 Axes>"
      ]
     },
     "metadata": {
      "needs_background": "light",
      "tags": []
     },
     "output_type": "display_data"
    },
    {
     "data": {
      "image/png": "[encoded data removed]",
      "text/plain": [
       "<Figure size 72x72 with 1 Axes>"
      ]
     },
     "metadata": {
      "needs_background": "light",
      "tags": []
     },
     "output_type": "display_data"
    }
   ],
   "source": [
    "show_image(imgs_train[2], cmap='Greys')\n",
    "show_image(uy5s_train[2], cmap='Greys')"
   ]
  },
  {
   "cell_type": "markdown",
   "metadata": {
    "id": "o__fhZ4e6omH"
   },
   "source": [
    "Ok, much better.\n",
    "\n",
    "Now let's convert the pixel values (0-255) to stiffness values (0.01-1). This step is not really necessary, our network could predict directly the pixels values and not stiffness.\n",
    "\n",
    "The original formula from [Lejeune (2020)](https://doi.org/10.1016/j.eml.2020.100659) is\n",
    "$$\n",
    "\\mathrm{stiffness} = \\frac{\\mathrm{pixel}}{255}\\, 99 + 1,\n",
    "$$\n",
    "but we include a division by 100, because it is convenient for visualization purposes. Again, we could skip this conversion."
   ]
  },
  {
   "cell_type": "code",
   "execution_count": null,
   "metadata": {
    "id": "gIVjKr_8LBRD"
   },
   "outputs": [],
   "source": [
    "imgs_train = (imgs_train / 255.) * 99. + 1.\n",
    "imgs_valid = (imgs_valid / 255.) * 99. + 1.\n",
    "\n",
    "imgs_train = imgs_train / 100.\n",
    "imgs_valid = imgs_valid / 100."
   ]
  },
  {
   "cell_type": "code",
   "execution_count": null,
   "metadata": {
    "colab": {
     "base_uri": "https://localhost:8080/",
     "height": 34
    },
    "executionInfo": {
     "elapsed": 128299,
     "status": "ok",
     "timestamp": 1601846777949,
     "user": {
      "displayName": "Lucas Almeida Rocha",
      "photoUrl": "",
      "userId": "10237817634386723741"
     },
     "user_tz": 180
    },
    "id": "nyIJJMvIfzyD",
    "outputId": "0eb7be12-01d3-449a-ec12-22bff4d5d7a3"
   },
   "outputs": [
    {
     "data": {
      "text/plain": [
       "(tensor(0.0100), tensor(0.0100), tensor(1.), tensor(1.))"
      ]
     },
     "execution_count": 16,
     "metadata": {
      "tags": []
     },
     "output_type": "execute_result"
    }
   ],
   "source": [
    "imgs_train.min(), imgs_valid.min(), imgs_train.max(), imgs_valid.max()"
   ]
  },
  {
   "cell_type": "markdown",
   "metadata": {
    "id": "kGnJP1-J_65n"
   },
   "source": [
    "Let's merge the horizontal and vertical displacements into one tensor, so that each component of the displacement field is in a separate channel."
   ]
  },
  {
   "cell_type": "code",
   "execution_count": null,
   "metadata": {
    "colab": {
     "base_uri": "https://localhost:8080/",
     "height": 34
    },
    "executionInfo": {
     "elapsed": 128858,
     "status": "ok",
     "timestamp": 1601846778516,
     "user": {
      "displayName": "Lucas Almeida Rocha",
      "photoUrl": "",
      "userId": "10237817634386723741"
     },
     "user_tz": 180
    },
    "id": "dZ9-ECBKjkNN",
    "outputId": "ac3d6073-974a-42a1-8750-75942438a1cd"
   },
   "outputs": [
    {
     "data": {
      "text/plain": [
       "(torch.Size([60000, 2, 28, 28]), torch.Size([10000, 2, 28, 28]))"
      ]
     },
     "execution_count": 17,
     "metadata": {
      "tags": []
     },
     "output_type": "execute_result"
    }
   ],
   "source": [
    "us_train = torch.cat([ux5s_train, uy5s_train], dim=1)\n",
    "us_valid = torch.cat([ux5s_valid, uy5s_valid], dim=1)\n",
    "\n",
    "us_train.shape, us_valid.shape"
   ]
  },
  {
   "cell_type": "markdown",
   "metadata": {
    "id": "oBsBz2pzAoTY"
   },
   "source": [
    "We do some cleaning."
   ]
  },
  {
   "cell_type": "code",
   "execution_count": null,
   "metadata": {
    "id": "qZQVXBQrkRuC"
   },
   "outputs": [],
   "source": [
    "del ux5s_train; del uy5s_train; del ux5s_valid; del uy5s_valid"
   ]
  },
  {
   "cell_type": "markdown",
   "metadata": {
    "id": "7CuK4dlJC-CZ"
   },
   "source": [
    "Now, we create fastai *DataLoaders* from a low-level API.\n",
    "\n",
    "The first step is to create our *Transform*. Fastai Transforms are basically classes which modify the dataset, when the batch is being prepared.\n",
    "\n",
    "Our Transform is simple, it receives a integer *i* and returns a tuple *(x,y)*, where *x* and *y* are the *i*-th element of `us_train` and `imgs_train`, respectively. Our Transform also normalizes these elements."
   ]
  },
  {
   "cell_type": "code",
   "execution_count": null,
   "metadata": {
    "id": "AX69FPRPjANx"
   },
   "outputs": [],
   "source": [
    "class GetNormalizedData(Transform):\n",
    "  def __init__(self, us, imgs, mean, std):\n",
    "    self.us, self.imgs = us, imgs\n",
    "    self.mean, self.std = mean, std\n",
    "\n",
    "  def encodes(self, i):\n",
    "    us_normalized = torch.true_divide((self.us[i] - self.mean.view(2,1,1)), self.std.view(2,1,1))\n",
    "    return (us_normalized.float(), self.imgs[i].float())"
   ]
  },
  {
   "cell_type": "markdown",
   "metadata": {
    "id": "XhacAdpmujFP"
   },
   "source": [
    "We calculate the mean and the standard deviation of our data."
   ]
  },
  {
   "cell_type": "code",
   "execution_count": null,
   "metadata": {
    "id": "BY5MRtoBnm50"
   },
   "outputs": [],
   "source": [
    "us_mean = torch.mean(us_train, dim=[0,2,3])\n",
    "us_std = torch.std(us_train, dim=[0,2,3])"
   ]
  },
  {
   "cell_type": "markdown",
   "metadata": {
    "id": "f-MatgNnutnu"
   },
   "source": [
    "We create a *TfmdLists* (*Transformed Lists*), which is just an object that will apply some Transforms in a list when the time is right, it is lazy.\n",
    "\n",
    "So, it is like the `range(...)` is our dataset, but the Transform will receive the elements of this `range(...)` and return a tuple of the actual data."
   ]
  },
  {
   "cell_type": "code",
   "execution_count": null,
   "metadata": {
    "id": "YeyHjQ3GlgKA"
   },
   "outputs": [],
   "source": [
    "train_tl= TfmdLists(range(len(us_train)), \n",
    "                    GetNormalizedData(us_train, imgs_train, us_mean, us_std)\n",
    "                    )\n",
    "\n",
    "valid_tl= TfmdLists(range(len(us_valid)), \n",
    "                    GetNormalizedData(us_valid, imgs_valid, us_mean, us_std)\n",
    "                    )"
   ]
  },
  {
   "cell_type": "markdown",
   "metadata": {
    "id": "PrjsZalExQy_"
   },
   "source": [
    "Once we have the TfmdLists, we can easily create the Dataloaders. If we have access to a GPU, it will use it."
   ]
  },
  {
   "cell_type": "code",
   "execution_count": null,
   "metadata": {
    "id": "xfMKagYqlgKD"
   },
   "outputs": [],
   "source": [
    "dls = DataLoaders.from_dsets(train_tl, valid_tl, bs=64)\n",
    "                             \n",
    "if torch.cuda.is_available(): dls = dls.cuda()"
   ]
  },
  {
   "cell_type": "markdown",
   "metadata": {
    "id": "9ykchic-xnRF"
   },
   "source": [
    "Let's take a look in a batch. The mean is next to zero and the standard deviation to one, it seems right."
   ]
  },
  {
   "cell_type": "code",
   "execution_count": null,
   "metadata": {
    "colab": {
     "base_uri": "https://localhost:8080/",
     "height": 84
    },
    "executionInfo": {
     "elapsed": 129837,
     "status": "ok",
     "timestamp": 1601846779511,
     "user": {
      "displayName": "Lucas Almeida Rocha",
      "photoUrl": "",
      "userId": "10237817634386723741"
     },
     "user_tz": 180
    },
    "id": "Cl3PrEHzlgKG",
    "outputId": "a6dadaf7-eaad-484d-99cf-1c60587327a5"
   },
   "outputs": [
    {
     "data": {
      "text/plain": [
       "(torch.Size([64, 2, 28, 28]),\n",
       " torch.Size([64, 1, 28, 28]),\n",
       " tensor(0.0210),\n",
       " tensor(0.9808))"
      ]
     },
     "execution_count": 23,
     "metadata": {
      "tags": []
     },
     "output_type": "execute_result"
    }
   ],
   "source": [
    "# a media e o std do batch estao proximos de 0 e 1\n",
    "x,y = dls.one_batch()\n",
    "x.shape, y.shape, x.mean(), x.std()"
   ]
  },
  {
   "cell_type": "markdown",
   "metadata": {
    "id": "wFmOCOE95ulm"
   },
   "source": [
    "## Training\n"
   ]
  },
  {
   "cell_type": "markdown",
   "metadata": {
    "id": "GNTuj7VoyCkV"
   },
   "source": [
    "From the images we have seen above, our task does not seem difficult.\n",
    "\n",
    "Let's use a simple architecture. It is just a CNN with a input layer and a output layer. We know that the targets ranges from 0.01 to 1, so we also apply a scaled sigmoid to return values between 0 and 1.1.\n",
    "\n",
    "We choose the parameters of the convolutions, so that the activations have shape *(n,28,28)*, where *n* is free to be any number."
   ]
  },
  {
   "cell_type": "code",
   "execution_count": null,
   "metadata": {
    "id": "0cGZOhNjQuF5"
   },
   "outputs": [],
   "source": [
    "class CNN(nn.Module):\n",
    "  def __init__(self):\n",
    "    super(CNN, self).__init__()\n",
    "    self.conv1 = nn.Conv2d(2, 4, 5, 1, 2, padding_mode='reflect', bias=True)\n",
    "    self.conv2 = nn.Conv2d(4, 1, 5, 1, 2, padding_mode='reflect', bias=True) \n",
    "    self.sigmoid = nn.Sigmoid()\n",
    "    self.relu = nn.ReLU()\n",
    "    \n",
    "  def forward(self, x):\n",
    "    h = self.relu(self.conv1(x))\n",
    "    return self.sigmoid(self.conv2(h)) * 1.1"
   ]
  },
  {
   "cell_type": "markdown",
   "metadata": {
    "id": "arrtGQORz-fX"
   },
   "source": [
    "We create a fastai *Learner*, which is an object that groups the data (dataloaders), the architecture, the loss function and the optimizer (ADAM by default). It has everything that we need to start the training."
   ]
  },
  {
   "cell_type": "code",
   "execution_count": null,
   "metadata": {
    "id": "OLOJR_DnyjKO"
   },
   "outputs": [],
   "source": [
    "l = Learner(dls, CNN(), loss_func=F.mse_loss, model_dir='')"
   ]
  },
  {
   "cell_type": "markdown",
   "metadata": {
    "id": "9NwKdZxx0wTD"
   },
   "source": [
    "We find a good *learning rate*. `lr_find` trains the model a bit with exponentially growing learning rates. This technique was introduced by [Smith (2017)](https://arxiv.org/pdf/1506.01186.pdf). The fastai automatically suggests us some values. We choose 0.01, because it is close to the point where slope is the steepest."
   ]
  },
  {
   "cell_type": "code",
   "execution_count": null,
   "metadata": {
    "colab": {
     "base_uri": "https://localhost:8080/",
     "height": 304
    },
    "executionInfo": {
     "elapsed": 6246,
     "status": "ok",
     "timestamp": 1601847878806,
     "user": {
      "displayName": "Lucas Almeida Rocha",
      "photoUrl": "",
      "userId": "10237817634386723741"
     },
     "user_tz": 180
    },
    "id": "B_H48G3UNb2h",
    "outputId": "4957ef96-1c53-49a2-b093-0c1b5a2cd14a"
   },
   "outputs": [
    {
     "data": {
      "text/html": [],
      "text/plain": [
       "<IPython.core.display.HTML object>"
      ]
     },
     "metadata": {
      "tags": []
     },
     "output_type": "display_data"
    },
    {
     "data": {
      "text/plain": [
       "SuggestedLRs(lr_min=0.33113112449646, lr_steep=0.007585775572806597)"
      ]
     },
     "execution_count": 46,
     "metadata": {
      "tags": []
     },
     "output_type": "execute_result"
    },
    {
     "data": {
      "image/png": "[encoded data removed]",
      "text/plain": [
       "<Figure size 432x288 with 1 Axes>"
      ]
     },
     "metadata": {
      "needs_background": "light",
      "tags": []
     },
     "output_type": "display_data"
    }
   ],
   "source": [
    "l.lr_find()"
   ]
  },
  {
   "cell_type": "markdown",
   "metadata": {
    "id": "CbSQfync2G_-"
   },
   "source": [
    "Now we train!\n",
    "\n",
    "`fit_one_cycle` uses the 1cycle policy proposed by [Smith and Topin (2017)](https://arxiv.org/abs/1708.07120). It's basically a training, where the learning rate increases until it reaches `lr_max` and then it decreases. The momentum does the opposite. Check out the [documentation](https://docs.fast.ai/callback.schedule#Learner.fit_one_cycle) for more details."
   ]
  },
  {
   "cell_type": "code",
   "execution_count": null,
   "metadata": {
    "colab": {
     "base_uri": "https://localhost:8080/",
     "height": 343
    },
    "executionInfo": {
     "elapsed": 425987,
     "status": "ok",
     "timestamp": 1601848307695,
     "user": {
      "displayName": "Lucas Almeida Rocha",
      "photoUrl": "",
      "userId": "10237817634386723741"
     },
     "user_tz": 180
    },
    "id": "bpIc0U-JBGpq",
    "outputId": "5ecc2251-975a-4e0e-adc9-1278ff5d7499"
   },
   "outputs": [
    {
     "data": {
      "text/html": [
       "<table border=\"1\" class=\"dataframe\">\n",
       "  <thead>\n",
       "    <tr style=\"text-align: left;\">\n",
       "      <th>epoch</th>\n",
       "      <th>train_loss</th>\n",
       "      <th>valid_loss</th>\n",
       "      <th>time</th>\n",
       "    </tr>\n",
       "  </thead>\n",
       "  <tbody>\n",
       "    <tr>\n",
       "      <td>0</td>\n",
       "      <td>0.018236</td>\n",
       "      <td>0.016336</td>\n",
       "      <td>00:42</td>\n",
       "    </tr>\n",
       "    <tr>\n",
       "      <td>1</td>\n",
       "      <td>0.009801</td>\n",
       "      <td>0.009679</td>\n",
       "      <td>00:42</td>\n",
       "    </tr>\n",
       "    <tr>\n",
       "      <td>2</td>\n",
       "      <td>0.008643</td>\n",
       "      <td>0.009191</td>\n",
       "      <td>00:42</td>\n",
       "    </tr>\n",
       "    <tr>\n",
       "      <td>3</td>\n",
       "      <td>0.007818</td>\n",
       "      <td>0.007774</td>\n",
       "      <td>00:42</td>\n",
       "    </tr>\n",
       "    <tr>\n",
       "      <td>4</td>\n",
       "      <td>0.007161</td>\n",
       "      <td>0.007132</td>\n",
       "      <td>00:42</td>\n",
       "    </tr>\n",
       "    <tr>\n",
       "      <td>5</td>\n",
       "      <td>0.006956</td>\n",
       "      <td>0.006896</td>\n",
       "      <td>00:42</td>\n",
       "    </tr>\n",
       "    <tr>\n",
       "      <td>6</td>\n",
       "      <td>0.006797</td>\n",
       "      <td>0.007023</td>\n",
       "      <td>00:42</td>\n",
       "    </tr>\n",
       "    <tr>\n",
       "      <td>7</td>\n",
       "      <td>0.006638</td>\n",
       "      <td>0.006642</td>\n",
       "      <td>00:42</td>\n",
       "    </tr>\n",
       "    <tr>\n",
       "      <td>8</td>\n",
       "      <td>0.006591</td>\n",
       "      <td>0.006579</td>\n",
       "      <td>00:42</td>\n",
       "    </tr>\n",
       "    <tr>\n",
       "      <td>9</td>\n",
       "      <td>0.006548</td>\n",
       "      <td>0.006541</td>\n",
       "      <td>00:42</td>\n",
       "    </tr>\n",
       "  </tbody>\n",
       "</table>"
      ],
      "text/plain": [
       "<IPython.core.display.HTML object>"
      ]
     },
     "metadata": {
      "tags": []
     },
     "output_type": "display_data"
    }
   ],
   "source": [
    "l.fit_one_cycle(10,lr_max=1e-2)"
   ]
  },
  {
   "cell_type": "markdown",
   "metadata": {
    "id": "N21NgnPp2Lfn"
   },
   "source": [
    "We can save the model."
   ]
  },
  {
   "cell_type": "code",
   "execution_count": null,
   "metadata": {
    "id": "OGLExvi4YLfJ"
   },
   "outputs": [],
   "source": [
    "l.path = Path('')\n",
    "\n",
    "l.save('models/01_cnn_ep10')"
   ]
  },
  {
   "cell_type": "markdown",
   "metadata": {
    "id": "U6cJPbsznDQE"
   },
   "source": [
    "## Results"
   ]
  },
  {
   "cell_type": "markdown",
   "metadata": {
    "id": "HhBash8Q2Riy"
   },
   "source": [
    "Let's check the predictions of the model."
   ]
  },
  {
   "cell_type": "code",
   "execution_count": null,
   "metadata": {
    "colab": {
     "base_uri": "https://localhost:8080/",
     "height": 17
    },
    "executionInfo": {
     "elapsed": 3914,
     "status": "ok",
     "timestamp": 1601848544304,
     "user": {
      "displayName": "Lucas Almeida Rocha",
      "photoUrl": "",
      "userId": "10237817634386723741"
     },
     "user_tz": 180
    },
    "id": "yCYg35RKdMlU",
    "outputId": "22c82e3b-43f2-4cff-ec8e-9682940d31f2"
   },
   "outputs": [
    {
     "data": {
      "text/html": [],
      "text/plain": [
       "<IPython.core.display.HTML object>"
      ]
     },
     "metadata": {
      "tags": []
     },
     "output_type": "display_data"
    }
   ],
   "source": [
    "preds, targets, losses = l.get_preds(with_loss=True)"
   ]
  },
  {
   "cell_type": "markdown",
   "metadata": {
    "id": "ANSN0vbF3eX6"
   },
   "source": [
    "On the left we have the predictions and on the right the targets."
   ]
  },
  {
   "cell_type": "code",
   "execution_count": null,
   "metadata": {
    "colab": {
     "base_uri": "https://localhost:8080/",
     "height": 427
    },
    "executionInfo": {
     "elapsed": 852,
     "status": "ok",
     "timestamp": 1601848546049,
     "user": {
      "displayName": "Lucas Almeida Rocha",
      "photoUrl": "",
      "userId": "10237817634386723741"
     },
     "user_tz": 180
    },
    "id": "Wzj_6uiSmlRi",
    "outputId": "f3879fcc-23d8-4039-b193-fda2a2bd8ff9"
   },
   "outputs": [
    {
     "data": {
      "image/png": "[encoded data removed]",
      "text/plain": [
       "<Figure size 72x72 with 1 Axes>"
      ]
     },
     "metadata": {
      "needs_background": "light",
      "tags": []
     },
     "output_type": "display_data"
    },
    {
     "data": {
      "image/png": "[encoded data removed]",
      "text/plain": [
       "<Figure size 72x72 with 1 Axes>"
      ]
     },
     "metadata": {
      "needs_background": "light",
      "tags": []
     },
     "output_type": "display_data"
    },
    {
     "data": {
      "image/png": "[encoded data removed]",
      "text/plain": [
       "<Figure size 72x72 with 1 Axes>"
      ]
     },
     "metadata": {
      "needs_background": "light",
      "tags": []
     },
     "output_type": "display_data"
    },
    {
     "data": {
      "image/png": "[encoded data removed]",
      "text/plain": [
       "<Figure size 72x72 with 1 Axes>"
      ]
     },
     "metadata": {
      "needs_background": "light",
      "tags": []
     },
     "output_type": "display_data"
    },
    {
     "data": {
      "image/png": "[encoded data removed]",
      "text/plain": [
       "<Figure size 72x72 with 1 Axes>"
      ]
     },
     "metadata": {
      "needs_background": "light",
      "tags": []
     },
     "output_type": "display_data"
    },
    {
     "data": {
      "image/png": "[encoded data removed]",
      "text/plain": [
       "<Figure size 72x72 with 1 Axes>"
      ]
     },
     "metadata": {
      "needs_background": "light",
      "tags": []
     },
     "output_type": "display_data"
    },
    {
     "data": {
      "image/png": "[encoded data removed]",
      "text/plain": [
       "<Figure size 72x72 with 1 Axes>"
      ]
     },
     "metadata": {
      "needs_background": "light",
      "tags": []
     },
     "output_type": "display_data"
    },
    {
     "data": {
      "image/png": "[encoded data removed]",
      "text/plain": [
       "<Figure size 72x72 with 1 Axes>"
      ]
     },
     "metadata": {
      "needs_background": "light",
      "tags": []
     },
     "output_type": "display_data"
    },
    {
     "data": {
      "image/png": "[encoded data removed]",
      "text/plain": [
       "<Figure size 72x72 with 1 Axes>"
      ]
     },
     "metadata": {
      "needs_background": "light",
      "tags": []
     },
     "output_type": "display_data"
    },
    {
     "data": {
      "image/png": "[encoded data removed]",
      "text/plain": [
       "<Figure size 72x72 with 1 Axes>"
      ]
     },
     "metadata": {
      "needs_background": "light",
      "tags": []
     },
     "output_type": "display_data"
    }
   ],
   "source": [
    "for i in range(0,10):\n",
    "  show_image(torch.cat([preds, torch.ones(preds.shape[0],1,28,1), targets], dim=3)[i], cmap='Greys_r')"
   ]
  },
  {
   "cell_type": "markdown",
   "metadata": {
    "id": "ZbDcJ9J93rVU"
   },
   "source": [
    "It looks good, let's now check the predictions that had the top losses."
   ]
  },
  {
   "cell_type": "code",
   "execution_count": null,
   "metadata": {
    "colab": {
     "base_uri": "https://localhost:8080/",
     "height": 427
    },
    "executionInfo": {
     "elapsed": 1070,
     "status": "ok",
     "timestamp": 1601848549724,
     "user": {
      "displayName": "Lucas Almeida Rocha",
      "photoUrl": "",
      "userId": "10237817634386723741"
     },
     "user_tz": 180
    },
    "id": "aK1iO9lIeUSx",
    "outputId": "20dbdb2e-e014-480d-cc3a-039047f8e7fa"
   },
   "outputs": [
    {
     "data": {
      "image/png": "[encoded data removed]",
      "text/plain": [
       "<Figure size 72x72 with 1 Axes>"
      ]
     },
     "metadata": {
      "needs_background": "light",
      "tags": []
     },
     "output_type": "display_data"
    },
    {
     "data": {
      "image/png": "[encoded data removed]",
      "text/plain": [
       "<Figure size 72x72 with 1 Axes>"
      ]
     },
     "metadata": {
      "needs_background": "light",
      "tags": []
     },
     "output_type": "display_data"
    },
    {
     "data": {
      "image/png": "[encoded data removed]",
      "text/plain": [
       "<Figure size 72x72 with 1 Axes>"
      ]
     },
     "metadata": {
      "needs_background": "light",
      "tags": []
     },
     "output_type": "display_data"
    },
    {
     "data": {
      "image/png": "[encoded data removed]",
      "text/plain": [
       "<Figure size 72x72 with 1 Axes>"
      ]
     },
     "metadata": {
      "needs_background": "light",
      "tags": []
     },
     "output_type": "display_data"
    },
    {
     "data": {
      "image/png": "[encoded data removed]",
      "text/plain": [
       "<Figure size 72x72 with 1 Axes>"
      ]
     },
     "metadata": {
      "needs_background": "light",
      "tags": []
     },
     "output_type": "display_data"
    },
    {
     "data": {
      "image/png": "[encoded data removed]",
      "text/plain": [
       "<Figure size 72x72 with 1 Axes>"
      ]
     },
     "metadata": {
      "needs_background": "light",
      "tags": []
     },
     "output_type": "display_data"
    },
    {
     "data": {
      "image/png": "[encoded data removed]",
      "text/plain": [
       "<Figure size 72x72 with 1 Axes>"
      ]
     },
     "metadata": {
      "needs_background": "light",
      "tags": []
     },
     "output_type": "display_data"
    },
    {
     "data": {
      "image/png": "[encoded data removed]",
      "text/plain": [
       "<Figure size 72x72 with 1 Axes>"
      ]
     },
     "metadata": {
      "needs_background": "light",
      "tags": []
     },
     "output_type": "display_data"
    },
    {
     "data": {
      "image/png": "[encoded data removed]",
      "text/plain": [
       "<Figure size 72x72 with 1 Axes>"
      ]
     },
     "metadata": {
      "needs_background": "light",
      "tags": []
     },
     "output_type": "display_data"
    },
    {
     "data": {
      "image/png": "[encoded data removed]",
      "text/plain": [
       "<Figure size 72x72 with 1 Axes>"
      ]
     },
     "metadata": {
      "needs_background": "light",
      "tags": []
     },
     "output_type": "display_data"
    }
   ],
   "source": [
    "_, indices = torch.sort(losses, descending=True)\n",
    "\n",
    "for i in indices[:10]:\n",
    "  show_image(torch.cat([preds, torch.ones(preds.shape[0],1,28,1), targets], dim=3)[i], cmap='Greys_r')"
   ]
  },
  {
   "cell_type": "markdown",
   "metadata": {
    "id": "2FPtDoSe4gIZ"
   },
   "source": [
    "It looks good as well. Now, we check the lowest losses."
   ]
  },
  {
   "cell_type": "code",
   "execution_count": null,
   "metadata": {
    "colab": {
     "base_uri": "https://localhost:8080/",
     "height": 427
    },
    "executionInfo": {
     "elapsed": 1222,
     "status": "ok",
     "timestamp": 1601848555594,
     "user": {
      "displayName": "Lucas Almeida Rocha",
      "photoUrl": "",
      "userId": "10237817634386723741"
     },
     "user_tz": 180
    },
    "id": "sjXySk5FdQv9",
    "outputId": "7331636d-6e35-43b5-91d2-49536a32ce85"
   },
   "outputs": [
    {
     "data": {
      "image/png": "[encoded data removed]",
      "text/plain": [
       "<Figure size 72x72 with 1 Axes>"
      ]
     },
     "metadata": {
      "needs_background": "light",
      "tags": []
     },
     "output_type": "display_data"
    },
    {
     "data": {
      "image/png": "[encoded data removed]",
      "text/plain": [
       "<Figure size 72x72 with 1 Axes>"
      ]
     },
     "metadata": {
      "needs_background": "light",
      "tags": []
     },
     "output_type": "display_data"
    },
    {
     "data": {
      "image/png": "[encoded data removed]",
      "text/plain": [
       "<Figure size 72x72 with 1 Axes>"
      ]
     },
     "metadata": {
      "needs_background": "light",
      "tags": []
     },
     "output_type": "display_data"
    },
    {
     "data": {
      "image/png": "[encoded data removed]",
      "text/plain": [
       "<Figure size 72x72 with 1 Axes>"
      ]
     },
     "metadata": {
      "needs_background": "light",
      "tags": []
     },
     "output_type": "display_data"
    },
    {
     "data": {
      "image/png": "[encoded data removed]",
      "text/plain": [
       "<Figure size 72x72 with 1 Axes>"
      ]
     },
     "metadata": {
      "needs_background": "light",
      "tags": []
     },
     "output_type": "display_data"
    },
    {
     "data": {
      "image/png": "[encoded data removed]",
      "text/plain": [
       "<Figure size 72x72 with 1 Axes>"
      ]
     },
     "metadata": {
      "needs_background": "light",
      "tags": []
     },
     "output_type": "display_data"
    },
    {
     "data": {
      "image/png": "[encoded data removed]",
      "text/plain": [
       "<Figure size 72x72 with 1 Axes>"
      ]
     },
     "metadata": {
      "needs_background": "light",
      "tags": []
     },
     "output_type": "display_data"
    },
    {
     "data": {
      "image/png": "[encoded data removed]",
      "text/plain": [
       "<Figure size 72x72 with 1 Axes>"
      ]
     },
     "metadata": {
      "needs_background": "light",
      "tags": []
     },
     "output_type": "display_data"
    },
    {
     "data": {
      "image/png": "[encoded data removed]",
      "text/plain": [
       "<Figure size 72x72 with 1 Axes>"
      ]
     },
     "metadata": {
      "needs_background": "light",
      "tags": []
     },
     "output_type": "display_data"
    },
    {
     "data": {
      "image/png": "[encoded data removed]",
      "text/plain": [
       "<Figure size 72x72 with 1 Axes>"
      ]
     },
     "metadata": {
      "needs_background": "light",
      "tags": []
     },
     "output_type": "display_data"
    }
   ],
   "source": [
    "for i in indices[-10:]:\n",
    "  show_image(torch.cat([preds, torch.ones(preds.shape[0],1,28,1), targets], dim=3)[i], cmap='Greys_r')"
   ]
  },
  {
   "cell_type": "markdown",
   "metadata": {
    "id": "f9E-F6-I4rrJ"
   },
   "source": [
    "Okay, it seems like our model is doing a good job. \n",
    "\n",
    "[Lejeune (2020)](https://doi.org/10.1016/j.eml.2020.100659) also made a model for the same task. She evaluated her model using the mean and the standard deviation of the absolute error of the test set (which is our validation set). She constructed a simple FNN with scikit-learn and obtained a mean equals to 13 and a standard deviation equals to 79, in pixel values.\n",
    "\n",
    "Let's calculate this metrics for our model."
   ]
  },
  {
   "cell_type": "code",
   "execution_count": null,
   "metadata": {
    "colab": {
     "base_uri": "https://localhost:8080/",
     "height": 34
    },
    "executionInfo": {
     "elapsed": 598,
     "status": "ok",
     "timestamp": 1601849318463,
     "user": {
      "displayName": "Lucas Almeida Rocha",
      "photoUrl": "",
      "userId": "10237817634386723741"
     },
     "user_tz": 180
    },
    "id": "bJWt_rcFne3k",
    "outputId": "0305ff91-6f62-480d-c34d-3a08f4676944"
   },
   "outputs": [
    {
     "data": {
      "text/plain": [
       "(tensor(8.5147), tensor(19.0121))"
      ]
     },
     "execution_count": 75,
     "metadata": {
      "tags": []
     },
     "output_type": "execute_result"
    }
   ],
   "source": [
    "px_preds = ((preds*100)-1)*(255/99)\n",
    "px_targets = ((targets*100)-1)*(255/99)\n",
    "\n",
    "px_error = torch.abs(px_preds - px_targets)\n",
    "\n",
    "px_mean = torch.mean(px_error)\n",
    "px_std = torch.std(px_error)\n",
    "\n",
    "px_mean, px_std"
   ]
  },
  {
   "cell_type": "markdown",
   "metadata": {
    "id": "Q1o2GK-l9ajB"
   },
   "source": [
    "Nice! A mean equals to 8.5 and a standard deviation equals to 19, better than the FNN!\n",
    "\n",
    "Now let's try to make the data more real. In the next notebook, we're going to add some noise to the displacement field and try beating the model we have just made."
   ]
  }
 ],
 "metadata": {
  "colab": {
   "authorship_tag": "ABX9TyN9IM/3Mumpic/cGD59tdpJ",
   "collapsed_sections": [],
   "name": "01_elastography.ipynb",
   "provenance": []
  },
  "kernelspec": {
   "display_name": "Python 3",
   "language": "python",
   "name": "python3"
  },
  "language_info": {
   "codemirror_mode": {
    "name": "ipython",
    "version": 3
   },
   "file_extension": ".py",
   "mimetype": "text/x-python",
   "name": "python",
   "nbconvert_exporter": "python",
   "pygments_lexer": "ipython3",
   "version": "3.8.2"
  }
 },
 "nbformat": 4,
 "nbformat_minor": 1
}
