{
 "cells": [
  {
   "cell_type": "markdown",
   "metadata": {
    "id": "XGqF3nYNnQ8c"
   },
   "source": [
    "# \"A neural network for elastography (part 2)\"\n",
    "> \"Let's train a neural network to solve a (slightly more realistic) typical problem encountered in elastography\"\n",
    "\n",
    "- toc: true\n",
    "- badges: true\n",
    "- comments: false\n",
    "- categories: [elastography]\n",
    "- author: Lucas Almeida Rocha"
   ]
  },
  {
   "cell_type": "markdown",
   "metadata": {
    "id": "URLziqeaiMbZ"
   },
   "source": [
    "## Introduction"
   ]
  },
  {
   "cell_type": "markdown",
   "metadata": {
    "id": "2Z734on5iPnB"
   },
   "source": [
    "In part 1, we talked about elastography and we created a model that predicts the stiffness from a given displacement field. The displacement field had no noise, so we decided to add some to make it looks more real. Our goal is to beat that model.\n",
    "\n",
    "Introduction and Data Prepration sections will be almost identical to part 1, so we won't comment much about it. For details, check part 1. \n",
    "\n",
    "Let's code! First, if you're using colab, you need to install [PyTorch](https://pytorch.org/) and [fastai](https://www.fast.ai/)."
   ]
  },
  {
   "cell_type": "code",
   "execution_count": null,
   "metadata": {
    "id": "RTMNqrHPfsi2"
   },
   "outputs": [],
   "source": [
    "!pip install torch\n",
    "!pip install fastai\n",
    "!pip install fastai --upgrade -q"
   ]
  },
  {
   "cell_type": "markdown",
   "metadata": {
    "id": "S18RhKa0j2R0"
   },
   "source": [
    "Then, we download and unzip the data, we're going to use."
   ]
  },
  {
   "cell_type": "code",
   "execution_count": null,
   "metadata": {
    "id": "PqmxO5VJu2dR"
   },
   "outputs": [],
   "source": [
    "import os.path\n",
    "if not os.path.exists('MNIST_input_files.zip'):\n",
    "  !wget https://open.bu.edu/bitstream/handle/2144/38693/MNIST_input_files.zip\n",
    "\n",
    "if not os.path.exists('FEA_displacement_results_step5.zip'):\n",
    "  !wget https://open.bu.edu/bitstream/handle/2144/38693/FEA_displacement_results_step5.zip\n",
    "\n",
    "!unzip -n \"MNIST_input_files.zip\" -d \".\"\n",
    "!unzip -n \"FEA_displacement_results_step5.zip\" -d \"uniaxial/\""
   ]
  },
  {
   "cell_type": "markdown",
   "metadata": {
    "id": "FlzPH5rSkFly"
   },
   "source": [
    "We import some libraries."
   ]
  },
  {
   "cell_type": "code",
   "execution_count": null,
   "metadata": {
    "id": "NtqbYjl2rbji"
   },
   "outputs": [],
   "source": [
    "import pandas as pd\n",
    "import torch\n",
    "from fastai.vision.all import *"
   ]
  },
  {
   "cell_type": "markdown",
   "metadata": {
    "id": "PlXkWcDO9DPA"
   },
   "source": [
    "## Data preparation"
   ]
  },
  {
   "cell_type": "markdown",
   "metadata": {
    "id": "hv7QbNamkKRN"
   },
   "source": [
    "We load the data from text files to pytorch tensor."
   ]
  },
  {
   "cell_type": "code",
   "execution_count": null,
   "metadata": {
    "colab": {
     "base_uri": "https://localhost:8080/",
     "height": 34
    },
    "executionInfo": {
     "elapsed": 9416,
     "status": "ok",
     "timestamp": 1601932596021,
     "user": {
      "displayName": "Lucas Almeida Rocha",
      "photoUrl": "",
      "userId": "10237817634386723741"
     },
     "user_tz": 180
    },
    "id": "2B0MTDfbHiSy",
    "outputId": "87a16f77-bff6-4bb5-c01d-93d446fa08e3"
   },
   "outputs": [
    {
     "data": {
      "text/plain": [
       "(torch.Size([60000, 784]), torch.Size([10000, 784]))"
      ]
     },
     "execution_count": 6,
     "metadata": {
      "tags": []
     },
     "output_type": "execute_result"
    }
   ],
   "source": [
    "df = pd.read_csv('MNIST_input_files/mnist_img_train.txt', sep=' ', header=None)\n",
    "imgs_train = torch.tensor(df.values)\n",
    "\n",
    "df = pd.read_csv('MNIST_input_files/mnist_img_test.txt', sep=' ', header=None)\n",
    "imgs_valid = torch.tensor(df.values)\n",
    "\n",
    "imgs_train.shape, imgs_valid.shape"
   ]
  },
  {
   "cell_type": "code",
   "execution_count": null,
   "metadata": {
    "colab": {
     "base_uri": "https://localhost:8080/",
     "height": 84
    },
    "executionInfo": {
     "elapsed": 25486,
     "status": "ok",
     "timestamp": 1601932612396,
     "user": {
      "displayName": "Lucas Almeida Rocha",
      "photoUrl": "",
      "userId": "10237817634386723741"
     },
     "user_tz": 180
    },
    "id": "spyDqYeuJQ6t",
    "outputId": "6a53296c-bea6-477c-fabc-342ef07b1de2"
   },
   "outputs": [
    {
     "data": {
      "text/plain": [
       "(torch.Size([60000, 784]),\n",
       " torch.Size([60000, 784]),\n",
       " torch.Size([10000, 784]),\n",
       " torch.Size([10000, 784]))"
      ]
     },
     "execution_count": 7,
     "metadata": {
      "tags": []
     },
     "output_type": "execute_result"
    }
   ],
   "source": [
    "df = pd.read_csv('uniaxial/FEA_displacement_results_step5/summary_dispx_train_step5.txt', sep=' ', header=None)\n",
    "ux5s_train = torch.tensor(df.values)\n",
    "\n",
    "df = pd.read_csv('uniaxial/FEA_displacement_results_step5/summary_dispy_train_step5.txt', sep=' ', header=None)\n",
    "uy5s_train = torch.tensor(df.values)\n",
    "\n",
    "df = pd.read_csv('uniaxial/FEA_displacement_results_step5/summary_dispx_test_step5.txt', sep=' ', header=None)\n",
    "ux5s_valid = torch.tensor(df.values)\n",
    "\n",
    "df = pd.read_csv('uniaxial/FEA_displacement_results_step5/summary_dispy_test_step5.txt', sep=' ', header=None)\n",
    "uy5s_valid = torch.tensor(df.values)\n",
    "\n",
    "\n",
    "ux5s_train.shape, uy5s_train.shape, ux5s_valid.shape, uy5s_valid.shape"
   ]
  },
  {
   "cell_type": "markdown",
   "metadata": {
    "id": "UP9fKaBgkRL_"
   },
   "source": [
    "We reshape the data."
   ]
  },
  {
   "cell_type": "code",
   "execution_count": null,
   "metadata": {
    "colab": {
     "base_uri": "https://localhost:8080/",
     "height": 118
    },
    "executionInfo": {
     "elapsed": 25083,
     "status": "ok",
     "timestamp": 1601932612396,
     "user": {
      "displayName": "Lucas Almeida Rocha",
      "photoUrl": "",
      "userId": "10237817634386723741"
     },
     "user_tz": 180
    },
    "id": "oZVweLqc_Y4X",
    "outputId": "5c419555-0380-4ac0-b973-07cc56d083ac"
   },
   "outputs": [
    {
     "data": {
      "text/plain": [
       "(torch.Size([60000, 1, 28, 28]),\n",
       " torch.Size([60000, 1, 28, 28]),\n",
       " torch.Size([10000, 1, 28, 28]),\n",
       " torch.Size([10000, 1, 28, 28]),\n",
       " torch.Size([60000, 1, 28, 28]),\n",
       " torch.Size([10000, 1, 28, 28]))"
      ]
     },
     "execution_count": 8,
     "metadata": {
      "tags": []
     },
     "output_type": "execute_result"
    }
   ],
   "source": [
    "ux5s_train = torch.reshape(ux5s_train, (-1,1,28,28))\n",
    "uy5s_train = torch.reshape(uy5s_train, (-1,1,28,28))\n",
    "ux5s_valid = torch.reshape(ux5s_valid, (-1,1,28,28))\n",
    "uy5s_valid = torch.reshape(uy5s_valid, (-1,1,28,28))\n",
    "\n",
    "imgs_train = torch.reshape(imgs_train, (-1,1,28,28))\n",
    "imgs_valid = torch.reshape(imgs_valid, (-1,1,28,28))\n",
    "\n",
    "ux5s_train.shape, uy5s_train.shape, ux5s_valid.shape, uy5s_valid.shape, imgs_train.shape, imgs_valid.shape"
   ]
  },
  {
   "cell_type": "markdown",
   "metadata": {
    "id": "GSurphe9kX_z"
   },
   "source": [
    "The displacement field is inverted, so we fix it."
   ]
  },
  {
   "cell_type": "code",
   "execution_count": null,
   "metadata": {
    "colab": {
     "base_uri": "https://localhost:8080/",
     "height": 170
    },
    "executionInfo": {
     "elapsed": 23035,
     "status": "ok",
     "timestamp": 1601932612397,
     "user": {
      "displayName": "Lucas Almeida Rocha",
      "photoUrl": "",
      "userId": "10237817634386723741"
     },
     "user_tz": 180
    },
    "id": "oPJf45WRMZq-",
    "outputId": "05c4bc74-b70e-4533-e41b-4eb5ecd06b84"
   },
   "outputs": [
    {
     "data": {
      "text/plain": [
       "<matplotlib.axes._subplots.AxesSubplot at 0x7f572e360160>"
      ]
     },
     "execution_count": 9,
     "metadata": {
      "tags": []
     },
     "output_type": "execute_result"
    },
    {
     "data": {
      "image/png": "[encoded data removed]",
      "text/plain": [
       "<Figure size 72x72 with 1 Axes>"
      ]
     },
     "metadata": {
      "needs_background": "light",
      "tags": []
     },
     "output_type": "display_data"
    },
    {
     "data": {
      "image/png": "[encoded data removed]",
      "text/plain": [
       "<Figure size 72x72 with 1 Axes>"
      ]
     },
     "metadata": {
      "needs_background": "light",
      "tags": []
     },
     "output_type": "display_data"
    }
   ],
   "source": [
    "show_image(imgs_train[2], cmap='Greys')\n",
    "show_image(uy5s_train[2], cmap='Greys')"
   ]
  },
  {
   "cell_type": "code",
   "execution_count": null,
   "metadata": {
    "id": "X9zMQ1mULrmd"
   },
   "outputs": [],
   "source": [
    "ux5s_train = torch.flip(ux5s_train, dims=[1,2])\n",
    "uy5s_train = torch.flip(uy5s_train, dims=[1,2])\n",
    "ux5s_valid = torch.flip(ux5s_valid, dims=[1,2])\n",
    "uy5s_valid = torch.flip(uy5s_valid, dims=[1,2])"
   ]
  },
  {
   "cell_type": "code",
   "execution_count": null,
   "metadata": {
    "colab": {
     "base_uri": "https://localhost:8080/",
     "height": 170
    },
    "executionInfo": {
     "elapsed": 30617,
     "status": "ok",
     "timestamp": 1601932620382,
     "user": {
      "displayName": "Lucas Almeida Rocha",
      "photoUrl": "",
      "userId": "10237817634386723741"
     },
     "user_tz": 180
    },
    "id": "WGABVX1-MrYQ",
    "outputId": "7c0b2d1a-25b8-414d-c07c-03fa2a17889a"
   },
   "outputs": [
    {
     "data": {
      "text/plain": [
       "<matplotlib.axes._subplots.AxesSubplot at 0x7f572e341588>"
      ]
     },
     "execution_count": 11,
     "metadata": {
      "tags": []
     },
     "output_type": "execute_result"
    },
    {
     "data": {
      "image/png": "[encoded data removed]",
      "text/plain": [
       "<Figure size 72x72 with 1 Axes>"
      ]
     },
     "metadata": {
      "needs_background": "light",
      "tags": []
     },
     "output_type": "display_data"
    },
    {
     "data": {
      "image/png": "[encoded data removed]",
      "text/plain": [
       "<Figure size 72x72 with 1 Axes>"
      ]
     },
     "metadata": {
      "needs_background": "light",
      "tags": []
     },
     "output_type": "display_data"
    }
   ],
   "source": [
    "show_image(imgs_train[2], cmap='Greys')\n",
    "show_image(uy5s_train[2], cmap='Greys')"
   ]
  },
  {
   "cell_type": "markdown",
   "metadata": {
    "id": "5l9PS0HikihA"
   },
   "source": [
    "We convert from pixel values to stiffness."
   ]
  },
  {
   "cell_type": "code",
   "execution_count": null,
   "metadata": {
    "id": "gIVjKr_8LBRD"
   },
   "outputs": [],
   "source": [
    "imgs_train = (imgs_train / 255.) * 99. + 1.\n",
    "imgs_valid = (imgs_valid / 255.) * 99. + 1.\n",
    "\n",
    "imgs_train = imgs_train / 100.\n",
    "imgs_valid = imgs_valid / 100."
   ]
  },
  {
   "cell_type": "code",
   "execution_count": null,
   "metadata": {
    "colab": {
     "base_uri": "https://localhost:8080/",
     "height": 34
    },
    "executionInfo": {
     "elapsed": 30521,
     "status": "ok",
     "timestamp": 1601932620863,
     "user": {
      "displayName": "Lucas Almeida Rocha",
      "photoUrl": "",
      "userId": "10237817634386723741"
     },
     "user_tz": 180
    },
    "id": "nyIJJMvIfzyD",
    "outputId": "181df77f-5012-4803-d340-0e3871c33f98"
   },
   "outputs": [
    {
     "data": {
      "text/plain": [
       "(tensor(0.0100), tensor(0.0100), tensor(1.), tensor(1.))"
      ]
     },
     "execution_count": 13,
     "metadata": {
      "tags": []
     },
     "output_type": "execute_result"
    }
   ],
   "source": [
    "imgs_train.min(), imgs_valid.min(), imgs_train.max(), imgs_valid.max()"
   ]
  },
  {
   "cell_type": "markdown",
   "metadata": {
    "id": "WXjr5fHgk2Jh"
   },
   "source": [
    "We put horizontal and vertical displacements into the same tensor."
   ]
  },
  {
   "cell_type": "code",
   "execution_count": null,
   "metadata": {
    "colab": {
     "base_uri": "https://localhost:8080/",
     "height": 34
    },
    "executionInfo": {
     "elapsed": 31027,
     "status": "ok",
     "timestamp": 1601932621742,
     "user": {
      "displayName": "Lucas Almeida Rocha",
      "photoUrl": "",
      "userId": "10237817634386723741"
     },
     "user_tz": 180
    },
    "id": "dZ9-ECBKjkNN",
    "outputId": "6acc47c4-d600-4466-9df3-8af66614163a"
   },
   "outputs": [
    {
     "data": {
      "text/plain": [
       "(torch.Size([60000, 2, 28, 28]), torch.Size([10000, 2, 28, 28]))"
      ]
     },
     "execution_count": 14,
     "metadata": {
      "tags": []
     },
     "output_type": "execute_result"
    }
   ],
   "source": [
    "us_train = torch.cat([ux5s_train, uy5s_train], dim=1)\n",
    "us_valid = torch.cat([ux5s_valid, uy5s_valid], dim=1)\n",
    "\n",
    "us_train.shape, us_valid.shape"
   ]
  },
  {
   "cell_type": "markdown",
   "metadata": {
    "id": "J8sgswcXk-eu"
   },
   "source": [
    "We do some cleaning."
   ]
  },
  {
   "cell_type": "code",
   "execution_count": null,
   "metadata": {
    "id": "qZQVXBQrkRuC"
   },
   "outputs": [],
   "source": [
    "del ux5s_train; del uy5s_train; del ux5s_valid; del uy5s_valid"
   ]
  },
  {
   "cell_type": "markdown",
   "metadata": {
    "id": "QEJSXkhylBSa"
   },
   "source": [
    "Okay, now we have some new stuff.\n",
    "\n",
    "This fastai Transform is the same from part 1, except by the fact that it adds some noise. The noise will be taken from a [Normal Distribution](https://en.wikipedia.org/wiki/Normal_distribution) with mean equals to 0 and standard deviation equals to 0.1. We will see that the noise makes the task more challenging."
   ]
  },
  {
   "cell_type": "code",
   "execution_count": null,
   "metadata": {
    "id": "AX69FPRPjANx"
   },
   "outputs": [],
   "source": [
    "class GetNormalizedData(Transform):\n",
    "  def __init__(self, us, imgs, mean, std, noise_std):\n",
    "    self.us, self.imgs = us, imgs\n",
    "    self.mean, self.std = mean, std\n",
    "    self.noise_std = noise_std\n",
    "\n",
    "  def encodes(self, i):\n",
    "    us_norm = torch.true_divide((self.us[i] - self.mean.view(2,1,1)), self.std.view(2,1,1))\n",
    "    us_with_noise = us_norm + torch.randn(2,28,28)*self.noise_std\n",
    "    return (us_with_noise.float(), self.imgs[i].float())"
   ]
  },
  {
   "cell_type": "markdown",
   "metadata": {
    "id": "wU5Kslr-l9q6"
   },
   "source": [
    "We calculate the mean and standard deviation from our dataset, so we can normalize the data."
   ]
  },
  {
   "cell_type": "code",
   "execution_count": null,
   "metadata": {
    "id": "BY5MRtoBnm50"
   },
   "outputs": [],
   "source": [
    "us_mean = torch.mean(us_train, dim=[0,2,3])\n",
    "us_std = torch.std(us_train, dim=[0,2,3])"
   ]
  },
  {
   "cell_type": "markdown",
   "metadata": {
    "id": "ZYgBrQt6mKjc"
   },
   "source": [
    "We create fastai TfmdLists and DataLoaders."
   ]
  },
  {
   "cell_type": "code",
   "execution_count": null,
   "metadata": {
    "id": "YeyHjQ3GlgKA"
   },
   "outputs": [],
   "source": [
    "noise_std = 0.1\n",
    "train_tl= TfmdLists(range(len(us_train[:])), \n",
    "                    GetNormalizedData(us_train[:], imgs_train[:], us_mean, us_std, noise_std)\n",
    "                    )\n",
    "\n",
    "valid_tl= TfmdLists(range(len(us_valid[:])), \n",
    "                    GetNormalizedData(us_valid[:], imgs_valid[:], us_mean, us_std, noise_std)\n",
    "                    )"
   ]
  },
  {
   "cell_type": "code",
   "execution_count": null,
   "metadata": {
    "id": "xfMKagYqlgKD"
   },
   "outputs": [],
   "source": [
    "dls = DataLoaders.from_dsets(train_tl, valid_tl, bs=64)\n",
    "                             \n",
    "if torch.cuda.is_available(): dls = dls.cuda()"
   ]
  },
  {
   "cell_type": "markdown",
   "metadata": {
    "id": "0QrYeALLmazm"
   },
   "source": [
    "Okay, let's take a look in our batch."
   ]
  },
  {
   "cell_type": "code",
   "execution_count": null,
   "metadata": {
    "colab": {
     "base_uri": "https://localhost:8080/",
     "height": 84
    },
    "executionInfo": {
     "elapsed": 623,
     "status": "ok",
     "timestamp": 1601932623382,
     "user": {
      "displayName": "Lucas Almeida Rocha",
      "photoUrl": "",
      "userId": "10237817634386723741"
     },
     "user_tz": 180
    },
    "id": "Cl3PrEHzlgKG",
    "outputId": "6f2ffa83-a5cd-448e-aa59-1f4a36c47333"
   },
   "outputs": [
    {
     "data": {
      "text/plain": [
       "(torch.Size([64, 2, 28, 28]),\n",
       " torch.Size([64, 1, 28, 28]),\n",
       " tensor(-0.0054),\n",
       " tensor(1.0122))"
      ]
     },
     "execution_count": 20,
     "metadata": {
      "tags": []
     },
     "output_type": "execute_result"
    }
   ],
   "source": [
    "x,y = dls.one_batch()\n",
    "x.shape, y.shape, x.mean(), x.std()"
   ]
  },
  {
   "cell_type": "code",
   "execution_count": null,
   "metadata": {
    "colab": {
     "base_uri": "https://localhost:8080/",
     "height": 442
    },
    "executionInfo": {
     "elapsed": 1071,
     "status": "ok",
     "timestamp": 1601932624462,
     "user": {
      "displayName": "Lucas Almeida Rocha",
      "photoUrl": "",
      "userId": "10237817634386723741"
     },
     "user_tz": 180
    },
    "id": "7zcSjlne-SI9",
    "outputId": "fbc872ea-c128-4be1-b744-b6363c56cfd4"
   },
   "outputs": [
    {
     "data": {
      "text/plain": [
       "<matplotlib.axes._subplots.AxesSubplot at 0x7f572dbc5978>"
      ]
     },
     "execution_count": 21,
     "metadata": {
      "tags": []
     },
     "output_type": "execute_result"
    },
    {
     "data": {
      "image/png": "[encoded data removed]",
      "text/plain": [
       "<Figure size 72x72 with 1 Axes>"
      ]
     },
     "metadata": {
      "needs_background": "light",
      "tags": []
     },
     "output_type": "display_data"
    },
    {
     "data": {
      "image/png": "[encoded data removed]",
      "text/plain": [
       "<Figure size 72x72 with 1 Axes>"
      ]
     },
     "metadata": {
      "needs_background": "light",
      "tags": []
     },
     "output_type": "display_data"
    },
    {
     "data": {
      "image/png": "[encoded data removed]",
      "text/plain": [
       "<Figure size 72x72 with 1 Axes>"
      ]
     },
     "metadata": {
      "needs_background": "light",
      "tags": []
     },
     "output_type": "display_data"
    },
    {
     "data": {
      "image/png": "[encoded data removed]",
      "text/plain": [
       "<Figure size 72x72 with 1 Axes>"
      ]
     },
     "metadata": {
      "needs_background": "light",
      "tags": []
     },
     "output_type": "display_data"
    },
    {
     "data": {
      "image/png": "[encoded data removed]",
      "text/plain": [
       "<Figure size 72x72 with 1 Axes>"
      ]
     },
     "metadata": {
      "needs_background": "light",
      "tags": []
     },
     "output_type": "display_data"
    },
    {
     "data": {
      "image/png": "[encoded data removed]",
      "text/plain": [
       "<Figure size 72x72 with 1 Axes>"
      ]
     },
     "metadata": {
      "needs_background": "light",
      "tags": []
     },
     "output_type": "display_data"
    }
   ],
   "source": [
    "show_image(x[0][1], cmap='Greys')\n",
    "show_image(y[0], cmap='Greys')\n",
    "show_image(x[1][1], cmap='Greys')\n",
    "show_image(y[1], cmap='Greys')\n",
    "show_image(x[2][1], cmap='Greys')\n",
    "show_image(y[2], cmap='Greys')"
   ]
  },
  {
   "cell_type": "markdown",
   "metadata": {
    "id": "akiM1B1omf-g"
   },
   "source": [
    "We can still identify the numbers in the displacement field, but the details are very difficult to see."
   ]
  },
  {
   "cell_type": "markdown",
   "metadata": {
    "id": "wFmOCOE95ulm"
   },
   "source": [
    "## Training\n"
   ]
  },
  {
   "cell_type": "markdown",
   "metadata": {
    "id": "9TkWBQR8nLvZ"
   },
   "source": [
    "Remember, our goal is to beat the model created in part 1. That model got a validation loss of 0.0065, so that's our goal. The task now is definitely more difficult, so we will use a deeper neural network.\n",
    "\n",
    "We will not train it all at once (we probably could, try it). We begin training the same model we used in part 1. Then, we remove the output layer and add a new hidden layer and a new output layer. We train the two new layers and then, we train the whole model. After that, we repeat the process of removing/adding layers and training them.\n",
    "\n",
    "We create a class `Base`, which will be the input/hidden layer, and a class `Head`, which will be the output layer. We multiply the activations by 1.1 after the sigmoid, so the model returns values between 0 and 1.1."
   ]
  },
  {
   "cell_type": "code",
   "execution_count": null,
   "metadata": {
    "id": "KD7kxcDj5y_k"
   },
   "outputs": [],
   "source": [
    "class Base(nn.Module):\n",
    "  def __init__(self, n_in, n_out):\n",
    "    super(Base, self).__init__()\n",
    "    self.conv = nn.Conv2d(n_in, n_out, kernel_size=5, stride=1, padding=2, padding_mode='reflect', bias=True)\n",
    "    self.relu = nn.ReLU()\n",
    "  \n",
    "  def forward(self, x):\n",
    "    return self.relu(self.conv(x))"
   ]
  },
  {
   "cell_type": "code",
   "execution_count": null,
   "metadata": {
    "id": "VGHU5gurxSM-"
   },
   "outputs": [],
   "source": [
    "class Head(nn.Module):\n",
    "  def __init__(self, n_in, n_out, y_range):\n",
    "    super(Head, self).__init__()\n",
    "    self.y_range = y_range\n",
    "    self.conv = nn.Conv2d(n_in, n_out, 5, 1, 2, padding_mode='reflect', bias=True)\n",
    "    self.sigmoid = nn.Sigmoid()\n",
    "  \n",
    "  def forward(self, x):\n",
    "    return self.sigmoid(self.conv(x))*self.y_range"
   ]
  },
  {
   "cell_type": "markdown",
   "metadata": {
    "id": "54PxIviTwnec"
   },
   "source": [
    "We begin with the same architecture used in part 1."
   ]
  },
  {
   "cell_type": "code",
   "execution_count": null,
   "metadata": {
    "id": "0cGZOhNjQuF5"
   },
   "outputs": [],
   "source": [
    "cnn1 = nn.Sequential(Base(2, 4), Head(4, 1, 1.1))"
   ]
  },
  {
   "cell_type": "code",
   "execution_count": null,
   "metadata": {
    "id": "OLOJR_DnyjKO"
   },
   "outputs": [],
   "source": [
    "l1 = Learner(dls, cnn1, loss_func=F.mse_loss, model_dir='')"
   ]
  },
  {
   "cell_type": "markdown",
   "metadata": {
    "id": "yYxPpcM8wvz2"
   },
   "source": [
    "We find a good candidate for learning rate and then we train the model."
   ]
  },
  {
   "cell_type": "code",
   "execution_count": null,
   "metadata": {
    "colab": {
     "base_uri": "https://localhost:8080/",
     "height": 300
    },
    "executionInfo": {
     "elapsed": 3478,
     "status": "ok",
     "timestamp": 1601926028102,
     "user": {
      "displayName": "Lucas Almeida Rocha",
      "photoUrl": "",
      "userId": "10237817634386723741"
     },
     "user_tz": 180
    },
    "id": "B_H48G3UNb2h",
    "outputId": "d861b663-f66f-4f62-e181-9d6804e7f1cf"
   },
   "outputs": [
    {
     "data": {
      "text/html": [],
      "text/plain": [
       "<IPython.core.display.HTML object>"
      ]
     },
     "metadata": {
      "tags": []
     },
     "output_type": "display_data"
    },
    {
     "data": {
      "text/plain": [
       "SuggestedLRs(lr_min=0.33113112449646, lr_steep=0.010964781977236271)"
      ]
     },
     "execution_count": 28,
     "metadata": {
      "tags": []
     },
     "output_type": "execute_result"
    },
    {
     "data": {
      "image/png": "[encoded data removed]",
      "text/plain": [
       "<Figure size 432x288 with 1 Axes>"
      ]
     },
     "metadata": {
      "needs_background": "light",
      "tags": []
     },
     "output_type": "display_data"
    }
   ],
   "source": [
    "l1.lr_find()"
   ]
  },
  {
   "cell_type": "code",
   "execution_count": null,
   "metadata": {
    "colab": {
     "base_uri": "https://localhost:8080/",
     "height": 343
    },
    "executionInfo": {
     "elapsed": 186094,
     "status": "ok",
     "timestamp": 1601926221828,
     "user": {
      "displayName": "Lucas Almeida Rocha",
      "photoUrl": "",
      "userId": "10237817634386723741"
     },
     "user_tz": 180
    },
    "id": "bpIc0U-JBGpq",
    "outputId": "12efa16e-a7c3-46e6-b3c4-d1b780e8ac07"
   },
   "outputs": [
    {
     "data": {
      "text/html": [
       "<table border=\"1\" class=\"dataframe\">\n",
       "  <thead>\n",
       "    <tr style=\"text-align: left;\">\n",
       "      <th>epoch</th>\n",
       "      <th>train_loss</th>\n",
       "      <th>valid_loss</th>\n",
       "      <th>time</th>\n",
       "    </tr>\n",
       "  </thead>\n",
       "  <tbody>\n",
       "    <tr>\n",
       "      <td>0</td>\n",
       "      <td>0.024701</td>\n",
       "      <td>0.023902</td>\n",
       "      <td>00:18</td>\n",
       "    </tr>\n",
       "    <tr>\n",
       "      <td>1</td>\n",
       "      <td>0.020117</td>\n",
       "      <td>0.019674</td>\n",
       "      <td>00:18</td>\n",
       "    </tr>\n",
       "    <tr>\n",
       "      <td>2</td>\n",
       "      <td>0.019051</td>\n",
       "      <td>0.018667</td>\n",
       "      <td>00:18</td>\n",
       "    </tr>\n",
       "    <tr>\n",
       "      <td>3</td>\n",
       "      <td>0.018855</td>\n",
       "      <td>0.018620</td>\n",
       "      <td>00:18</td>\n",
       "    </tr>\n",
       "    <tr>\n",
       "      <td>4</td>\n",
       "      <td>0.018318</td>\n",
       "      <td>0.018213</td>\n",
       "      <td>00:18</td>\n",
       "    </tr>\n",
       "    <tr>\n",
       "      <td>5</td>\n",
       "      <td>0.017984</td>\n",
       "      <td>0.018009</td>\n",
       "      <td>00:18</td>\n",
       "    </tr>\n",
       "    <tr>\n",
       "      <td>6</td>\n",
       "      <td>0.017937</td>\n",
       "      <td>0.017854</td>\n",
       "      <td>00:18</td>\n",
       "    </tr>\n",
       "    <tr>\n",
       "      <td>7</td>\n",
       "      <td>0.017773</td>\n",
       "      <td>0.017722</td>\n",
       "      <td>00:18</td>\n",
       "    </tr>\n",
       "    <tr>\n",
       "      <td>8</td>\n",
       "      <td>0.017673</td>\n",
       "      <td>0.017584</td>\n",
       "      <td>00:19</td>\n",
       "    </tr>\n",
       "    <tr>\n",
       "      <td>9</td>\n",
       "      <td>0.017758</td>\n",
       "      <td>0.017525</td>\n",
       "      <td>00:19</td>\n",
       "    </tr>\n",
       "  </tbody>\n",
       "</table>"
      ],
      "text/plain": [
       "<IPython.core.display.HTML object>"
      ]
     },
     "metadata": {
      "tags": []
     },
     "output_type": "display_data"
    }
   ],
   "source": [
    "l1.fit_one_cycle(10,lr_max=1e-2)"
   ]
  },
  {
   "cell_type": "markdown",
   "metadata": {
    "id": "OA37HoS5xJ_w"
   },
   "source": [
    "We can save it."
   ]
  },
  {
   "cell_type": "code",
   "execution_count": null,
   "metadata": {
    "id": "OGLExvi4YLfJ"
   },
   "outputs": [],
   "source": [
    "l1.path = Path('')\n",
    "\n",
    "l1.save('02_cnn1_ep10')"
   ]
  },
  {
   "cell_type": "markdown",
   "metadata": {
    "id": "xZpk8h-lxNtt"
   },
   "source": [
    "Let's see how our model is doing."
   ]
  },
  {
   "cell_type": "code",
   "execution_count": null,
   "metadata": {
    "colab": {
     "base_uri": "https://localhost:8080/",
     "height": 17
    },
    "executionInfo": {
     "elapsed": 3076,
     "status": "ok",
     "timestamp": 1601926238016,
     "user": {
      "displayName": "Lucas Almeida Rocha",
      "photoUrl": "",
      "userId": "10237817634386723741"
     },
     "user_tz": 180
    },
    "id": "yCYg35RKdMlU",
    "outputId": "47764986-b27c-40ed-f5d9-bfca5f2dc440"
   },
   "outputs": [
    {
     "data": {
      "text/html": [],
      "text/plain": [
       "<IPython.core.display.HTML object>"
      ]
     },
     "metadata": {
      "tags": []
     },
     "output_type": "display_data"
    }
   ],
   "source": [
    "preds, targets, losses = l1.get_preds(with_loss=True)"
   ]
  },
  {
   "cell_type": "code",
   "execution_count": null,
   "metadata": {
    "colab": {
     "base_uri": "https://localhost:8080/",
     "height": 140
    },
    "executionInfo": {
     "elapsed": 719,
     "status": "ok",
     "timestamp": 1601926239520,
     "user": {
      "displayName": "Lucas Almeida Rocha",
      "photoUrl": "",
      "userId": "10237817634386723741"
     },
     "user_tz": 180
    },
    "id": "aK1iO9lIeUSx",
    "outputId": "bc78b853-b52b-465f-c243-6f82bc7749b6"
   },
   "outputs": [
    {
     "data": {
      "image/png": "[encoded data removed]",
      "text/plain": [
       "<Figure size 72x72 with 1 Axes>"
      ]
     },
     "metadata": {
      "needs_background": "light",
      "tags": []
     },
     "output_type": "display_data"
    },
    {
     "data": {
      "image/png": "[encoded data removed]",
      "text/plain": [
       "<Figure size 72x72 with 1 Axes>"
      ]
     },
     "metadata": {
      "needs_background": "light",
      "tags": []
     },
     "output_type": "display_data"
    },
    {
     "data": {
      "image/png": "[encoded data removed]",
      "text/plain": [
       "<Figure size 72x72 with 1 Axes>"
      ]
     },
     "metadata": {
      "needs_background": "light",
      "tags": []
     },
     "output_type": "display_data"
    }
   ],
   "source": [
    "_, indices = torch.sort(losses, descending=True)\n",
    "\n",
    "for i in indices[:3]:\n",
    "  show_image(torch.cat([preds, torch.ones(preds.shape[0],1,28,1), targets], dim=3)[i], cmap='Greys_r')"
   ]
  },
  {
   "cell_type": "code",
   "execution_count": null,
   "metadata": {
    "colab": {
     "base_uri": "https://localhost:8080/",
     "height": 34
    },
    "executionInfo": {
     "elapsed": 559,
     "status": "ok",
     "timestamp": 1601926244178,
     "user": {
      "displayName": "Lucas Almeida Rocha",
      "photoUrl": "",
      "userId": "10237817634386723741"
     },
     "user_tz": 180
    },
    "id": "bJWt_rcFne3k",
    "outputId": "51fbd459-8c5d-497e-bc16-e4a85d121ef3"
   },
   "outputs": [
    {
     "data": {
      "text/plain": [
       "(tensor(14.6327), tensor(30.8624))"
      ]
     },
     "execution_count": 34,
     "metadata": {
      "tags": []
     },
     "output_type": "execute_result"
    }
   ],
   "source": [
    "I_preds = ((preds*100)-1)*(255/99)\n",
    "I_targets = ((targets*100)-1)*(255/99)\n",
    "\n",
    "I_error = torch.abs(I_preds - I_targets)\n",
    "\n",
    "I_mean = torch.mean(I_error)\n",
    "I_std = torch.std(I_error)\n",
    "\n",
    "I_mean, I_std"
   ]
  },
  {
   "cell_type": "markdown",
   "metadata": {
    "id": "TRgXCZIDyMwS"
   },
   "source": [
    "Mean and standard deviation are 14.6 and 30.9, respectively. It does not seem terrible, but we are still far from our goal. Let's add more layers.\n",
    "\n",
    "We take the first layer of our previous model and add two new layers."
   ]
  },
  {
   "cell_type": "code",
   "execution_count": null,
   "metadata": {
    "id": "562PvY1IFBeJ"
   },
   "outputs": [],
   "source": [
    "cnn2 = nn.Sequential(l1.model[0], Base(4, 8), Head(8, 1, 1.1))\n",
    "l2 = Learner(dls, cnn2, loss_func=F.mse_loss, model_dir='')"
   ]
  },
  {
   "cell_type": "markdown",
   "metadata": {
    "id": "4f04ETRH0aMk"
   },
   "source": [
    "Now we want to train only the newly added layers, so we \"freeze\" all layers but the last two. This is a funcionality of fastai, that allow us to choose which layer we wish to train. A frozen layer don't have its parameters updated when training."
   ]
  },
  {
   "cell_type": "code",
   "execution_count": null,
   "metadata": {
    "id": "kvot4C6QFocR"
   },
   "outputs": [],
   "source": [
    "l2.freeze_to(-2)"
   ]
  },
  {
   "cell_type": "markdown",
   "metadata": {
    "id": "9X0BfDIj0mbX"
   },
   "source": [
    "Now we find a good learning rate and train our model."
   ]
  },
  {
   "cell_type": "code",
   "execution_count": null,
   "metadata": {
    "colab": {
     "base_uri": "https://localhost:8080/",
     "height": 300
    },
    "executionInfo": {
     "elapsed": 3681,
     "status": "ok",
     "timestamp": 1601926302383,
     "user": {
      "displayName": "Lucas Almeida Rocha",
      "photoUrl": "",
      "userId": "10237817634386723741"
     },
     "user_tz": 180
    },
    "id": "wD_b6I4tFos3",
    "outputId": "9726901d-50e5-4331-c580-caad0427dfc3"
   },
   "outputs": [
    {
     "data": {
      "text/html": [],
      "text/plain": [
       "<IPython.core.display.HTML object>"
      ]
     },
     "metadata": {
      "tags": []
     },
     "output_type": "display_data"
    },
    {
     "data": {
      "text/plain": [
       "SuggestedLRs(lr_min=0.005754399299621582, lr_steep=0.0012022644514217973)"
      ]
     },
     "execution_count": 38,
     "metadata": {
      "tags": []
     },
     "output_type": "execute_result"
    },
    {
     "data": {
      "image/png": "[encoded data removed]",
      "text/plain": [
       "<Figure size 432x288 with 1 Axes>"
      ]
     },
     "metadata": {
      "needs_background": "light",
      "tags": []
     },
     "output_type": "display_data"
    }
   ],
   "source": [
    "l2.lr_find()"
   ]
  },
  {
   "cell_type": "code",
   "execution_count": null,
   "metadata": {
    "colab": {
     "base_uri": "https://localhost:8080/",
     "height": 195
    },
    "executionInfo": {
     "elapsed": 94804,
     "status": "ok",
     "timestamp": 1601926430475,
     "user": {
      "displayName": "Lucas Almeida Rocha",
      "photoUrl": "",
      "userId": "10237817634386723741"
     },
     "user_tz": 180
    },
    "id": "zlN46CM3FoVH",
    "outputId": "76b48f3f-4129-446e-b4f9-b6c2f32344ca"
   },
   "outputs": [
    {
     "data": {
      "text/html": [
       "<table border=\"1\" class=\"dataframe\">\n",
       "  <thead>\n",
       "    <tr style=\"text-align: left;\">\n",
       "      <th>epoch</th>\n",
       "      <th>train_loss</th>\n",
       "      <th>valid_loss</th>\n",
       "      <th>time</th>\n",
       "    </tr>\n",
       "  </thead>\n",
       "  <tbody>\n",
       "    <tr>\n",
       "      <td>0</td>\n",
       "      <td>0.015613</td>\n",
       "      <td>0.015378</td>\n",
       "      <td>00:18</td>\n",
       "    </tr>\n",
       "    <tr>\n",
       "      <td>1</td>\n",
       "      <td>0.014453</td>\n",
       "      <td>0.014299</td>\n",
       "      <td>00:19</td>\n",
       "    </tr>\n",
       "    <tr>\n",
       "      <td>2</td>\n",
       "      <td>0.014103</td>\n",
       "      <td>0.013915</td>\n",
       "      <td>00:19</td>\n",
       "    </tr>\n",
       "    <tr>\n",
       "      <td>3</td>\n",
       "      <td>0.013683</td>\n",
       "      <td>0.013562</td>\n",
       "      <td>00:18</td>\n",
       "    </tr>\n",
       "    <tr>\n",
       "      <td>4</td>\n",
       "      <td>0.013607</td>\n",
       "      <td>0.013543</td>\n",
       "      <td>00:18</td>\n",
       "    </tr>\n",
       "  </tbody>\n",
       "</table>"
      ],
      "text/plain": [
       "<IPython.core.display.HTML object>"
      ]
     },
     "metadata": {
      "tags": []
     },
     "output_type": "display_data"
    }
   ],
   "source": [
    "l2.fit_one_cycle(5, lr_max=3e-3)"
   ]
  },
  {
   "cell_type": "markdown",
   "metadata": {
    "id": "R6gV4LD21yFm"
   },
   "source": [
    "Let's unfreeze all layers and train them."
   ]
  },
  {
   "cell_type": "code",
   "execution_count": null,
   "metadata": {
    "id": "7b9_c2ZcGb40"
   },
   "outputs": [],
   "source": [
    "l2.unfreeze()"
   ]
  },
  {
   "cell_type": "code",
   "execution_count": null,
   "metadata": {
    "colab": {
     "base_uri": "https://localhost:8080/",
     "height": 195
    },
    "executionInfo": {
     "elapsed": 95363,
     "status": "ok",
     "timestamp": 1601926531617,
     "user": {
      "displayName": "Lucas Almeida Rocha",
      "photoUrl": "",
      "userId": "10237817634386723741"
     },
     "user_tz": 180
    },
    "id": "gVJRO3LJGsaO",
    "outputId": "71c0d7a8-3a10-4fe1-b110-ad4ab545b40c"
   },
   "outputs": [
    {
     "data": {
      "text/html": [
       "<table border=\"1\" class=\"dataframe\">\n",
       "  <thead>\n",
       "    <tr style=\"text-align: left;\">\n",
       "      <th>epoch</th>\n",
       "      <th>train_loss</th>\n",
       "      <th>valid_loss</th>\n",
       "      <th>time</th>\n",
       "    </tr>\n",
       "  </thead>\n",
       "  <tbody>\n",
       "    <tr>\n",
       "      <td>0</td>\n",
       "      <td>0.013642</td>\n",
       "      <td>0.013651</td>\n",
       "      <td>00:18</td>\n",
       "    </tr>\n",
       "    <tr>\n",
       "      <td>1</td>\n",
       "      <td>0.013382</td>\n",
       "      <td>0.013282</td>\n",
       "      <td>00:18</td>\n",
       "    </tr>\n",
       "    <tr>\n",
       "      <td>2</td>\n",
       "      <td>0.013294</td>\n",
       "      <td>0.013129</td>\n",
       "      <td>00:18</td>\n",
       "    </tr>\n",
       "    <tr>\n",
       "      <td>3</td>\n",
       "      <td>0.013178</td>\n",
       "      <td>0.013031</td>\n",
       "      <td>00:19</td>\n",
       "    </tr>\n",
       "    <tr>\n",
       "      <td>4</td>\n",
       "      <td>0.013074</td>\n",
       "      <td>0.013030</td>\n",
       "      <td>00:19</td>\n",
       "    </tr>\n",
       "  </tbody>\n",
       "</table>"
      ],
      "text/plain": [
       "<IPython.core.display.HTML object>"
      ]
     },
     "metadata": {
      "tags": []
     },
     "output_type": "display_data"
    }
   ],
   "source": [
    "l2.fit_one_cycle(5, lr_max=3e-3)"
   ]
  },
  {
   "cell_type": "code",
   "execution_count": null,
   "metadata": {
    "id": "DNujEWhzLPQl"
   },
   "outputs": [],
   "source": [
    "l2.path = Path('')\n",
    "\n",
    "l2.save('models/02_cnn2_ep10')"
   ]
  },
  {
   "cell_type": "markdown",
   "metadata": {
    "id": "DiW29b3hncpE"
   },
   "source": [
    "Let's see if the model is improving."
   ]
  },
  {
   "cell_type": "code",
   "execution_count": null,
   "metadata": {
    "colab": {
     "base_uri": "https://localhost:8080/",
     "height": 17
    },
    "executionInfo": {
     "elapsed": 3014,
     "status": "ok",
     "timestamp": 1601926539587,
     "user": {
      "displayName": "Lucas Almeida Rocha",
      "photoUrl": "",
      "userId": "10237817634386723741"
     },
     "user_tz": 180
    },
    "id": "vsQAxGLjLi0P",
    "outputId": "08f01249-8a99-4bd7-a3c5-d856fb29eacc"
   },
   "outputs": [
    {
     "data": {
      "text/html": [],
      "text/plain": [
       "<IPython.core.display.HTML object>"
      ]
     },
     "metadata": {
      "tags": []
     },
     "output_type": "display_data"
    }
   ],
   "source": [
    "preds, targets, losses = l2.get_preds(with_loss=True)"
   ]
  },
  {
   "cell_type": "code",
   "execution_count": null,
   "metadata": {
    "colab": {
     "base_uri": "https://localhost:8080/",
     "height": 140
    },
    "executionInfo": {
     "elapsed": 1912,
     "status": "ok",
     "timestamp": 1601926539990,
     "user": {
      "displayName": "Lucas Almeida Rocha",
      "photoUrl": "",
      "userId": "10237817634386723741"
     },
     "user_tz": 180
    },
    "id": "lKPi9kJ-Li0X",
    "outputId": "f1b92ab9-555b-494d-e34b-7520e2029132"
   },
   "outputs": [
    {
     "data": {
      "image/png": "[encoded data removed]",
      "text/plain": [
       "<Figure size 72x72 with 1 Axes>"
      ]
     },
     "metadata": {
      "needs_background": "light",
      "tags": []
     },
     "output_type": "display_data"
    },
    {
     "data": {
      "image/png": "[encoded data removed]",
      "text/plain": [
       "<Figure size 72x72 with 1 Axes>"
      ]
     },
     "metadata": {
      "needs_background": "light",
      "tags": []
     },
     "output_type": "display_data"
    },
    {
     "data": {
      "image/png": "[encoded data removed]",
      "text/plain": [
       "<Figure size 72x72 with 1 Axes>"
      ]
     },
     "metadata": {
      "needs_background": "light",
      "tags": []
     },
     "output_type": "display_data"
    }
   ],
   "source": [
    "_, indices = torch.sort(losses, descending=True)\n",
    "\n",
    "for i in indices[:3]:\n",
    "  show_image(torch.cat([preds, torch.ones(preds.shape[0],1,28,1), targets], dim=3)[i], cmap='Greys_r')"
   ]
  },
  {
   "cell_type": "code",
   "execution_count": null,
   "metadata": {
    "colab": {
     "base_uri": "https://localhost:8080/",
     "height": 34
    },
    "executionInfo": {
     "elapsed": 622,
     "status": "ok",
     "timestamp": 1601926544468,
     "user": {
      "displayName": "Lucas Almeida Rocha",
      "photoUrl": "",
      "userId": "10237817634386723741"
     },
     "user_tz": 180
    },
    "id": "QX3apFjxLi0Z",
    "outputId": "f3006de5-041f-4357-93c3-4cb6edee9f9a"
   },
   "outputs": [
    {
     "data": {
      "text/plain": [
       "(tensor(12.2046), tensor(26.7411))"
      ]
     },
     "execution_count": 45,
     "metadata": {
      "tags": []
     },
     "output_type": "execute_result"
    }
   ],
   "source": [
    "I_preds = ((preds*100)-1)*(255/99)\n",
    "I_targets = ((targets*100)-1)*(255/99)\n",
    "\n",
    "I_error = torch.abs(I_preds - I_targets)\n",
    "\n",
    "I_mean = torch.mean(I_error)\n",
    "I_std = torch.std(I_error)\n",
    "\n",
    "I_mean, I_std"
   ]
  },
  {
   "cell_type": "markdown",
   "metadata": {
    "id": "ahHEyAFfnna5"
   },
   "source": [
    "Nice, the mean and the standard deviation decreased. Let's add a new layer.\n",
    "\n",
    "Again, we keep everything but the last layer, and add two new layers (`Base` and `Head`)."
   ]
  },
  {
   "cell_type": "code",
   "execution_count": null,
   "metadata": {
    "id": "jRSDBDKyL0lA"
   },
   "outputs": [],
   "source": [
    "cnn3 = nn.Sequential(l2.model[0], l2.model[1], Base(8, 16), Head(16, 1, 1.1))\n",
    "l3 = Learner(dls, cnn3, loss_func=F.mse_loss, model_dir='')"
   ]
  },
  {
   "cell_type": "markdown",
   "metadata": {
    "id": "7C3HB_x7otod"
   },
   "source": [
    "We freeze everything but the two last layers."
   ]
  },
  {
   "cell_type": "code",
   "execution_count": null,
   "metadata": {
    "id": "JOzrTTA0L0lC"
   },
   "outputs": [],
   "source": [
    "l3.freeze_to(-2)"
   ]
  },
  {
   "cell_type": "markdown",
   "metadata": {
    "id": "leNvw83yo2X1"
   },
   "source": [
    "We find a good learning rate and train the model."
   ]
  },
  {
   "cell_type": "code",
   "execution_count": null,
   "metadata": {
    "colab": {
     "base_uri": "https://localhost:8080/",
     "height": 300
    },
    "executionInfo": {
     "elapsed": 3591,
     "status": "ok",
     "timestamp": 1601926645109,
     "user": {
      "displayName": "Lucas Almeida Rocha",
      "photoUrl": "",
      "userId": "10237817634386723741"
     },
     "user_tz": 180
    },
    "id": "AXfglHyML0lE",
    "outputId": "b4e193c0-b498-44a8-8f0d-e3c3d1855c11"
   },
   "outputs": [
    {
     "data": {
      "text/html": [],
      "text/plain": [
       "<IPython.core.display.HTML object>"
      ]
     },
     "metadata": {
      "tags": []
     },
     "output_type": "display_data"
    },
    {
     "data": {
      "text/plain": [
       "SuggestedLRs(lr_min=0.33113112449646, lr_steep=0.0003981071640737355)"
      ]
     },
     "execution_count": 48,
     "metadata": {
      "tags": []
     },
     "output_type": "execute_result"
    },
    {
     "data": {
      "image/png": "[encoded data removed]",
      "text/plain": [
       "<Figure size 432x288 with 1 Axes>"
      ]
     },
     "metadata": {
      "needs_background": "light",
      "tags": []
     },
     "output_type": "display_data"
    }
   ],
   "source": [
    "l3.lr_find()"
   ]
  },
  {
   "cell_type": "code",
   "execution_count": null,
   "metadata": {
    "colab": {
     "base_uri": "https://localhost:8080/",
     "height": 195
    },
    "executionInfo": {
     "elapsed": 98398,
     "status": "ok",
     "timestamp": 1601926817543,
     "user": {
      "displayName": "Lucas Almeida Rocha",
      "photoUrl": "",
      "userId": "10237817634386723741"
     },
     "user_tz": 180
    },
    "id": "mBVb7F9vL0lG",
    "outputId": "e6095add-0381-4dca-a4e1-34691ac84f80"
   },
   "outputs": [
    {
     "data": {
      "text/html": [
       "<table border=\"1\" class=\"dataframe\">\n",
       "  <thead>\n",
       "    <tr style=\"text-align: left;\">\n",
       "      <th>epoch</th>\n",
       "      <th>train_loss</th>\n",
       "      <th>valid_loss</th>\n",
       "      <th>time</th>\n",
       "    </tr>\n",
       "  </thead>\n",
       "  <tbody>\n",
       "    <tr>\n",
       "      <td>0</td>\n",
       "      <td>0.012930</td>\n",
       "      <td>0.012544</td>\n",
       "      <td>00:19</td>\n",
       "    </tr>\n",
       "    <tr>\n",
       "      <td>1</td>\n",
       "      <td>0.011336</td>\n",
       "      <td>0.010928</td>\n",
       "      <td>00:19</td>\n",
       "    </tr>\n",
       "    <tr>\n",
       "      <td>2</td>\n",
       "      <td>0.010565</td>\n",
       "      <td>0.010285</td>\n",
       "      <td>00:19</td>\n",
       "    </tr>\n",
       "    <tr>\n",
       "      <td>3</td>\n",
       "      <td>0.010030</td>\n",
       "      <td>0.010060</td>\n",
       "      <td>00:19</td>\n",
       "    </tr>\n",
       "    <tr>\n",
       "      <td>4</td>\n",
       "      <td>0.009895</td>\n",
       "      <td>0.009768</td>\n",
       "      <td>00:19</td>\n",
       "    </tr>\n",
       "  </tbody>\n",
       "</table>"
      ],
      "text/plain": [
       "<IPython.core.display.HTML object>"
      ]
     },
     "metadata": {
      "tags": []
     },
     "output_type": "display_data"
    }
   ],
   "source": [
    "l3.fit_one_cycle(5, lr_max=1e-2)"
   ]
  },
  {
   "cell_type": "markdown",
   "metadata": {
    "id": "iKygoV7yo8Lr"
   },
   "source": [
    "Now we unfreeze all layers and train them all."
   ]
  },
  {
   "cell_type": "code",
   "execution_count": null,
   "metadata": {
    "id": "YUGqXyJbL0lI"
   },
   "outputs": [],
   "source": [
    "l3.unfreeze()"
   ]
  },
  {
   "cell_type": "code",
   "execution_count": null,
   "metadata": {
    "colab": {
     "base_uri": "https://localhost:8080/",
     "height": 195
    },
    "executionInfo": {
     "elapsed": 98906,
     "status": "ok",
     "timestamp": 1601926947184,
     "user": {
      "displayName": "Lucas Almeida Rocha",
      "photoUrl": "",
      "userId": "10237817634386723741"
     },
     "user_tz": 180
    },
    "id": "RqRRDl1UL0lJ",
    "outputId": "4b1871df-2ffc-426d-84d2-ff322042f9a1"
   },
   "outputs": [
    {
     "data": {
      "text/html": [
       "<table border=\"1\" class=\"dataframe\">\n",
       "  <thead>\n",
       "    <tr style=\"text-align: left;\">\n",
       "      <th>epoch</th>\n",
       "      <th>train_loss</th>\n",
       "      <th>valid_loss</th>\n",
       "      <th>time</th>\n",
       "    </tr>\n",
       "  </thead>\n",
       "  <tbody>\n",
       "    <tr>\n",
       "      <td>0</td>\n",
       "      <td>0.010616</td>\n",
       "      <td>0.010767</td>\n",
       "      <td>00:19</td>\n",
       "    </tr>\n",
       "    <tr>\n",
       "      <td>1</td>\n",
       "      <td>0.010378</td>\n",
       "      <td>0.010520</td>\n",
       "      <td>00:19</td>\n",
       "    </tr>\n",
       "    <tr>\n",
       "      <td>2</td>\n",
       "      <td>0.009992</td>\n",
       "      <td>0.009603</td>\n",
       "      <td>00:19</td>\n",
       "    </tr>\n",
       "    <tr>\n",
       "      <td>3</td>\n",
       "      <td>0.009642</td>\n",
       "      <td>0.009459</td>\n",
       "      <td>00:19</td>\n",
       "    </tr>\n",
       "    <tr>\n",
       "      <td>4</td>\n",
       "      <td>0.009406</td>\n",
       "      <td>0.009376</td>\n",
       "      <td>00:19</td>\n",
       "    </tr>\n",
       "  </tbody>\n",
       "</table>"
      ],
      "text/plain": [
       "<IPython.core.display.HTML object>"
      ]
     },
     "metadata": {
      "tags": []
     },
     "output_type": "display_data"
    }
   ],
   "source": [
    "l3.fit_one_cycle(5, lr_max=1e-2)"
   ]
  },
  {
   "cell_type": "code",
   "execution_count": null,
   "metadata": {
    "id": "xHCP3r_-L0lL"
   },
   "outputs": [],
   "source": [
    "l3.path = Path('')\n",
    "\n",
    "l3.save('models/02_cnn3_ep10')"
   ]
  },
  {
   "cell_type": "markdown",
   "metadata": {
    "id": "D-BFQ2KtqSb0"
   },
   "source": [
    "Nice, validation loss is under 0.01. Let's add more layers."
   ]
  },
  {
   "cell_type": "code",
   "execution_count": null,
   "metadata": {
    "id": "Yy5oyPRSSaE6"
   },
   "outputs": [],
   "source": [
    "cnn4 = nn.Sequential(l3.model[0], l3.model[1], l3.model[2], Base(16, 32), Head(32, 1, 1.1))\n",
    "l4 = Learner(dls, cnn4, loss_func=F.mse_loss, model_dir='')"
   ]
  },
  {
   "cell_type": "code",
   "execution_count": null,
   "metadata": {
    "id": "7c9LDYgdSaE9"
   },
   "outputs": [],
   "source": [
    "l4.freeze_to(-2)"
   ]
  },
  {
   "cell_type": "code",
   "execution_count": null,
   "metadata": {
    "colab": {
     "base_uri": "https://localhost:8080/",
     "height": 300
    },
    "executionInfo": {
     "elapsed": 3545,
     "status": "ok",
     "timestamp": 1601927032356,
     "user": {
      "displayName": "Lucas Almeida Rocha",
      "photoUrl": "",
      "userId": "10237817634386723741"
     },
     "user_tz": 180
    },
    "id": "QBWEi5nBSaFA",
    "outputId": "6ea93f99-8b13-4c8c-e059-f1e83c7cd54e"
   },
   "outputs": [
    {
     "data": {
      "text/html": [],
      "text/plain": [
       "<IPython.core.display.HTML object>"
      ]
     },
     "metadata": {
      "tags": []
     },
     "output_type": "display_data"
    },
    {
     "data": {
      "text/plain": [
       "SuggestedLRs(lr_min=0.03019951581954956, lr_steep=0.0005754399462603033)"
      ]
     },
     "execution_count": 57,
     "metadata": {
      "tags": []
     },
     "output_type": "execute_result"
    },
    {
     "data": {
      "image/png": "[encoded data removed]",
      "text/plain": [
       "<Figure size 432x288 with 1 Axes>"
      ]
     },
     "metadata": {
      "needs_background": "light",
      "tags": []
     },
     "output_type": "display_data"
    }
   ],
   "source": [
    "l4.lr_find()"
   ]
  },
  {
   "cell_type": "code",
   "execution_count": null,
   "metadata": {
    "colab": {
     "base_uri": "https://localhost:8080/",
     "height": 195
    },
    "executionInfo": {
     "elapsed": 102597,
     "status": "ok",
     "timestamp": 1601927170609,
     "user": {
      "displayName": "Lucas Almeida Rocha",
      "photoUrl": "",
      "userId": "10237817634386723741"
     },
     "user_tz": 180
    },
    "id": "5fRFpwqwSaFC",
    "outputId": "ca45b1e9-2497-4a3c-d8dd-45c6a811b736"
   },
   "outputs": [
    {
     "data": {
      "text/html": [
       "<table border=\"1\" class=\"dataframe\">\n",
       "  <thead>\n",
       "    <tr style=\"text-align: left;\">\n",
       "      <th>epoch</th>\n",
       "      <th>train_loss</th>\n",
       "      <th>valid_loss</th>\n",
       "      <th>time</th>\n",
       "    </tr>\n",
       "  </thead>\n",
       "  <tbody>\n",
       "    <tr>\n",
       "      <td>0</td>\n",
       "      <td>0.009254</td>\n",
       "      <td>0.009672</td>\n",
       "      <td>00:20</td>\n",
       "    </tr>\n",
       "    <tr>\n",
       "      <td>1</td>\n",
       "      <td>0.008698</td>\n",
       "      <td>0.008634</td>\n",
       "      <td>00:20</td>\n",
       "    </tr>\n",
       "    <tr>\n",
       "      <td>2</td>\n",
       "      <td>0.008317</td>\n",
       "      <td>0.008167</td>\n",
       "      <td>00:20</td>\n",
       "    </tr>\n",
       "    <tr>\n",
       "      <td>3</td>\n",
       "      <td>0.008171</td>\n",
       "      <td>0.007967</td>\n",
       "      <td>00:20</td>\n",
       "    </tr>\n",
       "    <tr>\n",
       "      <td>4</td>\n",
       "      <td>0.007987</td>\n",
       "      <td>0.007927</td>\n",
       "      <td>00:20</td>\n",
       "    </tr>\n",
       "  </tbody>\n",
       "</table>"
      ],
      "text/plain": [
       "<IPython.core.display.HTML object>"
      ]
     },
     "metadata": {
      "tags": []
     },
     "output_type": "display_data"
    }
   ],
   "source": [
    "l4.fit_one_cycle(5, lr_max=3e-3)"
   ]
  },
  {
   "cell_type": "code",
   "execution_count": null,
   "metadata": {
    "id": "y0bHJDQxSaFD"
   },
   "outputs": [],
   "source": [
    "l4.unfreeze()"
   ]
  },
  {
   "cell_type": "code",
   "execution_count": null,
   "metadata": {
    "colab": {
     "base_uri": "https://localhost:8080/",
     "height": 195
    },
    "executionInfo": {
     "elapsed": 100461,
     "status": "ok",
     "timestamp": 1601927296820,
     "user": {
      "displayName": "Lucas Almeida Rocha",
      "photoUrl": "",
      "userId": "10237817634386723741"
     },
     "user_tz": 180
    },
    "id": "4MjkZJO8SaFF",
    "outputId": "4525dac3-083a-45e8-e394-470881ecac56"
   },
   "outputs": [
    {
     "data": {
      "text/html": [
       "<table border=\"1\" class=\"dataframe\">\n",
       "  <thead>\n",
       "    <tr style=\"text-align: left;\">\n",
       "      <th>epoch</th>\n",
       "      <th>train_loss</th>\n",
       "      <th>valid_loss</th>\n",
       "      <th>time</th>\n",
       "    </tr>\n",
       "  </thead>\n",
       "  <tbody>\n",
       "    <tr>\n",
       "      <td>0</td>\n",
       "      <td>0.008445</td>\n",
       "      <td>0.008203</td>\n",
       "      <td>00:20</td>\n",
       "    </tr>\n",
       "    <tr>\n",
       "      <td>1</td>\n",
       "      <td>0.008310</td>\n",
       "      <td>0.008244</td>\n",
       "      <td>00:19</td>\n",
       "    </tr>\n",
       "    <tr>\n",
       "      <td>2</td>\n",
       "      <td>0.008095</td>\n",
       "      <td>0.008137</td>\n",
       "      <td>00:20</td>\n",
       "    </tr>\n",
       "    <tr>\n",
       "      <td>3</td>\n",
       "      <td>0.007941</td>\n",
       "      <td>0.007829</td>\n",
       "      <td>00:19</td>\n",
       "    </tr>\n",
       "    <tr>\n",
       "      <td>4</td>\n",
       "      <td>0.007764</td>\n",
       "      <td>0.007718</td>\n",
       "      <td>00:19</td>\n",
       "    </tr>\n",
       "  </tbody>\n",
       "</table>"
      ],
      "text/plain": [
       "<IPython.core.display.HTML object>"
      ]
     },
     "metadata": {
      "tags": []
     },
     "output_type": "display_data"
    }
   ],
   "source": [
    "l4.fit_one_cycle(5, lr_max=3e-3)"
   ]
  },
  {
   "cell_type": "markdown",
   "metadata": {
    "id": "UKfsbUZLroLo"
   },
   "source": [
    "The loss increased too much in the first epoches. This could be because the learning rate is too high for the first layers. Next, time we'll try something different."
   ]
  },
  {
   "cell_type": "code",
   "execution_count": null,
   "metadata": {
    "id": "0vDc9KF7SaFH"
   },
   "outputs": [],
   "source": [
    "l4.path = Path('')\n",
    "\n",
    "l4.save('models/02_cnn4_ep10')"
   ]
  },
  {
   "cell_type": "markdown",
   "metadata": {
    "id": "5EPQRc50qkeD"
   },
   "source": [
    "Let's add more layers."
   ]
  },
  {
   "cell_type": "code",
   "execution_count": null,
   "metadata": {
    "id": "afXBnUuJTwid"
   },
   "outputs": [],
   "source": [
    "cnn5 = nn.Sequential(*l4.model[0:4], Base(32, 64), Head(64, 1, 1.1))\n",
    "l5 = Learner(dls, cnn5, loss_func=F.mse_loss, model_dir='')"
   ]
  },
  {
   "cell_type": "code",
   "execution_count": null,
   "metadata": {
    "id": "2hcDjr06Twig"
   },
   "outputs": [],
   "source": [
    "l5.freeze_to(-2)"
   ]
  },
  {
   "cell_type": "code",
   "execution_count": null,
   "metadata": {
    "colab": {
     "base_uri": "https://localhost:8080/",
     "height": 300
    },
    "executionInfo": {
     "elapsed": 3520,
     "status": "ok",
     "timestamp": 1601927381709,
     "user": {
      "displayName": "Lucas Almeida Rocha",
      "photoUrl": "",
      "userId": "10237817634386723741"
     },
     "user_tz": 180
    },
    "id": "4p4m472DTwii",
    "outputId": "0eabb8a6-5614-4d34-f955-ac60b0b30cf8"
   },
   "outputs": [
    {
     "data": {
      "text/html": [],
      "text/plain": [
       "<IPython.core.display.HTML object>"
      ]
     },
     "metadata": {
      "tags": []
     },
     "output_type": "display_data"
    },
    {
     "data": {
      "text/plain": [
       "SuggestedLRs(lr_min=0.33113112449646, lr_steep=0.0003981071640737355)"
      ]
     },
     "execution_count": 64,
     "metadata": {
      "tags": []
     },
     "output_type": "execute_result"
    },
    {
     "data": {
      "image/png": "[encoded data removed]",
      "text/plain": [
       "<Figure size 432x288 with 1 Axes>"
      ]
     },
     "metadata": {
      "needs_background": "light",
      "tags": []
     },
     "output_type": "display_data"
    }
   ],
   "source": [
    "l5.lr_find()"
   ]
  },
  {
   "cell_type": "code",
   "execution_count": null,
   "metadata": {
    "colab": {
     "base_uri": "https://localhost:8080/",
     "height": 195
    },
    "executionInfo": {
     "elapsed": 106930,
     "status": "ok",
     "timestamp": 1601927526763,
     "user": {
      "displayName": "Lucas Almeida Rocha",
      "photoUrl": "",
      "userId": "10237817634386723741"
     },
     "user_tz": 180
    },
    "id": "A7fhkGM-Twik",
    "outputId": "84a54d61-044b-44c9-b309-bfdd07cc87e4"
   },
   "outputs": [
    {
     "data": {
      "text/html": [
       "<table border=\"1\" class=\"dataframe\">\n",
       "  <thead>\n",
       "    <tr style=\"text-align: left;\">\n",
       "      <th>epoch</th>\n",
       "      <th>train_loss</th>\n",
       "      <th>valid_loss</th>\n",
       "      <th>time</th>\n",
       "    </tr>\n",
       "  </thead>\n",
       "  <tbody>\n",
       "    <tr>\n",
       "      <td>0</td>\n",
       "      <td>0.007929</td>\n",
       "      <td>0.007879</td>\n",
       "      <td>00:21</td>\n",
       "    </tr>\n",
       "    <tr>\n",
       "      <td>1</td>\n",
       "      <td>0.007663</td>\n",
       "      <td>0.007467</td>\n",
       "      <td>00:21</td>\n",
       "    </tr>\n",
       "    <tr>\n",
       "      <td>2</td>\n",
       "      <td>0.007260</td>\n",
       "      <td>0.007151</td>\n",
       "      <td>00:20</td>\n",
       "    </tr>\n",
       "    <tr>\n",
       "      <td>3</td>\n",
       "      <td>0.006991</td>\n",
       "      <td>0.006932</td>\n",
       "      <td>00:21</td>\n",
       "    </tr>\n",
       "    <tr>\n",
       "      <td>4</td>\n",
       "      <td>0.006843</td>\n",
       "      <td>0.006826</td>\n",
       "      <td>00:21</td>\n",
       "    </tr>\n",
       "  </tbody>\n",
       "</table>"
      ],
      "text/plain": [
       "<IPython.core.display.HTML object>"
      ]
     },
     "metadata": {
      "tags": []
     },
     "output_type": "display_data"
    }
   ],
   "source": [
    "l5.fit_one_cycle(5, lr_max=3e-3)"
   ]
  },
  {
   "cell_type": "code",
   "execution_count": null,
   "metadata": {
    "id": "h7KYdVaLTwim"
   },
   "outputs": [],
   "source": [
    "l5.unfreeze()"
   ]
  },
  {
   "cell_type": "code",
   "execution_count": null,
   "metadata": {
    "colab": {
     "base_uri": "https://localhost:8080/",
     "height": 300
    },
    "executionInfo": {
     "elapsed": 3058,
     "status": "ok",
     "timestamp": 1601927533923,
     "user": {
      "displayName": "Lucas Almeida Rocha",
      "photoUrl": "",
      "userId": "10237817634386723741"
     },
     "user_tz": 180
    },
    "id": "Tq0pPgbLUL2-",
    "outputId": "d7fdc364-3744-4267-dd6e-b1af86909d47"
   },
   "outputs": [
    {
     "data": {
      "text/html": [],
      "text/plain": [
       "<IPython.core.display.HTML object>"
      ]
     },
     "metadata": {
      "tags": []
     },
     "output_type": "display_data"
    },
    {
     "data": {
      "text/plain": [
       "SuggestedLRs(lr_min=2.2908675418875645e-07, lr_steep=6.309573450380412e-07)"
      ]
     },
     "execution_count": 67,
     "metadata": {
      "tags": []
     },
     "output_type": "execute_result"
    },
    {
     "data": {
      "image/png": "[encoded data removed]",
      "text/plain": [
       "<Figure size 432x288 with 1 Axes>"
      ]
     },
     "metadata": {
      "needs_background": "light",
      "tags": []
     },
     "output_type": "display_data"
    }
   ],
   "source": [
    "l5.lr_find()"
   ]
  },
  {
   "cell_type": "markdown",
   "metadata": {
    "id": "7qfu0jnardz-"
   },
   "source": [
    "This time we train the model with different learning rates. The first layer is trained with `lr_max=1e-5` and the last with `lr_max=1e-3`. Intermediate layers are trained with intermediate values of `lr_max`. This is easily done with fastai by passing a *python slice* to `lr_max` argument."
   ]
  },
  {
   "cell_type": "code",
   "execution_count": null,
   "metadata": {
    "colab": {
     "base_uri": "https://localhost:8080/",
     "height": 195
    },
    "executionInfo": {
     "elapsed": 107608,
     "status": "ok",
     "timestamp": 1601927691944,
     "user": {
      "displayName": "Lucas Almeida Rocha",
      "photoUrl": "",
      "userId": "10237817634386723741"
     },
     "user_tz": 180
    },
    "id": "SDk39Z8KTwin",
    "outputId": "32aaaef9-d723-415a-c939-807edd77f070"
   },
   "outputs": [
    {
     "data": {
      "text/html": [
       "<table border=\"1\" class=\"dataframe\">\n",
       "  <thead>\n",
       "    <tr style=\"text-align: left;\">\n",
       "      <th>epoch</th>\n",
       "      <th>train_loss</th>\n",
       "      <th>valid_loss</th>\n",
       "      <th>time</th>\n",
       "    </tr>\n",
       "  </thead>\n",
       "  <tbody>\n",
       "    <tr>\n",
       "      <td>0</td>\n",
       "      <td>0.007022</td>\n",
       "      <td>0.006942</td>\n",
       "      <td>00:21</td>\n",
       "    </tr>\n",
       "    <tr>\n",
       "      <td>1</td>\n",
       "      <td>0.006975</td>\n",
       "      <td>0.006896</td>\n",
       "      <td>00:21</td>\n",
       "    </tr>\n",
       "    <tr>\n",
       "      <td>2</td>\n",
       "      <td>0.006920</td>\n",
       "      <td>0.006869</td>\n",
       "      <td>00:21</td>\n",
       "    </tr>\n",
       "    <tr>\n",
       "      <td>3</td>\n",
       "      <td>0.006785</td>\n",
       "      <td>0.006712</td>\n",
       "      <td>00:21</td>\n",
       "    </tr>\n",
       "    <tr>\n",
       "      <td>4</td>\n",
       "      <td>0.006744</td>\n",
       "      <td>0.006693</td>\n",
       "      <td>00:21</td>\n",
       "    </tr>\n",
       "  </tbody>\n",
       "</table>"
      ],
      "text/plain": [
       "<IPython.core.display.HTML object>"
      ]
     },
     "metadata": {
      "tags": []
     },
     "output_type": "display_data"
    }
   ],
   "source": [
    "l5.fit_one_cycle(5, lr_max=slice(1e-5,1e-3))"
   ]
  },
  {
   "cell_type": "code",
   "execution_count": null,
   "metadata": {
    "id": "04uQ3u9HTwip"
   },
   "outputs": [],
   "source": [
    "l5.path = Path('')\n",
    "\n",
    "l5.save('models/02_cnn5_std=0.1_ep10')"
   ]
  },
  {
   "cell_type": "markdown",
   "metadata": {
    "id": "t5H9koDUrFl6"
   },
   "source": [
    "Validation loss was 0.0065 in part 1, we're very close. Let's add more layers."
   ]
  },
  {
   "cell_type": "code",
   "execution_count": null,
   "metadata": {
    "id": "x6Xs-KbnVmVt"
   },
   "outputs": [],
   "source": [
    "cnn6 = nn.Sequential(*l5.model[0:5], Base(64, 128), Head(128, 1, 1.1))\n",
    "l6 = Learner(dls, cnn6, loss_func=F.mse_loss, model_dir='')"
   ]
  },
  {
   "cell_type": "code",
   "execution_count": null,
   "metadata": {
    "id": "LcLc42SKVmV1"
   },
   "outputs": [],
   "source": [
    "l6.freeze_to(-2)"
   ]
  },
  {
   "cell_type": "code",
   "execution_count": null,
   "metadata": {
    "colab": {
     "base_uri": "https://localhost:8080/",
     "height": 300
    },
    "executionInfo": {
     "elapsed": 4185,
     "status": "ok",
     "timestamp": 1601927845170,
     "user": {
      "displayName": "Lucas Almeida Rocha",
      "photoUrl": "",
      "userId": "10237817634386723741"
     },
     "user_tz": 180
    },
    "id": "nd7P61t_VmV3",
    "outputId": "06b38e5e-f3e3-4fbc-d566-0c2c6c375da5"
   },
   "outputs": [
    {
     "data": {
      "text/html": [],
      "text/plain": [
       "<IPython.core.display.HTML object>"
      ]
     },
     "metadata": {
      "tags": []
     },
     "output_type": "display_data"
    },
    {
     "data": {
      "text/plain": [
       "SuggestedLRs(lr_min=0.006918309628963471, lr_steep=0.00019054606673307717)"
      ]
     },
     "execution_count": 75,
     "metadata": {
      "tags": []
     },
     "output_type": "execute_result"
    },
    {
     "data": {
      "image/png": "[encoded data removed]",
      "text/plain": [
       "<Figure size 432x288 with 1 Axes>"
      ]
     },
     "metadata": {
      "needs_background": "light",
      "tags": []
     },
     "output_type": "display_data"
    }
   ],
   "source": [
    "l6.lr_find()"
   ]
  },
  {
   "cell_type": "code",
   "execution_count": null,
   "metadata": {
    "colab": {
     "base_uri": "https://localhost:8080/",
     "height": 195
    },
    "executionInfo": {
     "elapsed": 117587,
     "status": "ok",
     "timestamp": 1601927983420,
     "user": {
      "displayName": "Lucas Almeida Rocha",
      "photoUrl": "",
      "userId": "10237817634386723741"
     },
     "user_tz": 180
    },
    "id": "Fj6xpJ8wVmV6",
    "outputId": "e8899d67-5453-4148-96b5-e6e757168bd9"
   },
   "outputs": [
    {
     "data": {
      "text/html": [
       "<table border=\"1\" class=\"dataframe\">\n",
       "  <thead>\n",
       "    <tr style=\"text-align: left;\">\n",
       "      <th>epoch</th>\n",
       "      <th>train_loss</th>\n",
       "      <th>valid_loss</th>\n",
       "      <th>time</th>\n",
       "    </tr>\n",
       "  </thead>\n",
       "  <tbody>\n",
       "    <tr>\n",
       "      <td>0</td>\n",
       "      <td>0.007262</td>\n",
       "      <td>0.007157</td>\n",
       "      <td>00:23</td>\n",
       "    </tr>\n",
       "    <tr>\n",
       "      <td>1</td>\n",
       "      <td>0.007013</td>\n",
       "      <td>0.006997</td>\n",
       "      <td>00:23</td>\n",
       "    </tr>\n",
       "    <tr>\n",
       "      <td>2</td>\n",
       "      <td>0.006735</td>\n",
       "      <td>0.006644</td>\n",
       "      <td>00:23</td>\n",
       "    </tr>\n",
       "    <tr>\n",
       "      <td>3</td>\n",
       "      <td>0.006336</td>\n",
       "      <td>0.006322</td>\n",
       "      <td>00:23</td>\n",
       "    </tr>\n",
       "    <tr>\n",
       "      <td>4</td>\n",
       "      <td>0.006169</td>\n",
       "      <td>0.006190</td>\n",
       "      <td>00:23</td>\n",
       "    </tr>\n",
       "  </tbody>\n",
       "</table>"
      ],
      "text/plain": [
       "<IPython.core.display.HTML object>"
      ]
     },
     "metadata": {
      "tags": []
     },
     "output_type": "display_data"
    }
   ],
   "source": [
    "l6.fit_one_cycle(5, lr_max=3e-3)"
   ]
  },
  {
   "cell_type": "code",
   "execution_count": null,
   "metadata": {
    "id": "WSfxbHpUVmV8"
   },
   "outputs": [],
   "source": [
    "l6.unfreeze()"
   ]
  },
  {
   "cell_type": "code",
   "execution_count": null,
   "metadata": {
    "colab": {
     "base_uri": "https://localhost:8080/",
     "height": 300
    },
    "executionInfo": {
     "elapsed": 3139,
     "status": "ok",
     "timestamp": 1601927992764,
     "user": {
      "displayName": "Lucas Almeida Rocha",
      "photoUrl": "",
      "userId": "10237817634386723741"
     },
     "user_tz": 180
    },
    "id": "oLYbDAurVmV9",
    "outputId": "b266978b-2909-46d9-9558-f664f09132ac"
   },
   "outputs": [
    {
     "data": {
      "text/html": [],
      "text/plain": [
       "<IPython.core.display.HTML object>"
      ]
     },
     "metadata": {
      "tags": []
     },
     "output_type": "display_data"
    },
    {
     "data": {
      "text/plain": [
       "SuggestedLRs(lr_min=1.318256749982538e-07, lr_steep=9.12010818865383e-07)"
      ]
     },
     "execution_count": 78,
     "metadata": {
      "tags": []
     },
     "output_type": "execute_result"
    },
    {
     "data": {
      "image/png": "[encoded data removed]",
      "text/plain": [
       "<Figure size 432x288 with 1 Axes>"
      ]
     },
     "metadata": {
      "needs_background": "light",
      "tags": []
     },
     "output_type": "display_data"
    }
   ],
   "source": [
    "l6.lr_find()"
   ]
  },
  {
   "cell_type": "code",
   "execution_count": null,
   "metadata": {
    "colab": {
     "base_uri": "https://localhost:8080/",
     "height": 195
    },
    "executionInfo": {
     "elapsed": 117720,
     "status": "ok",
     "timestamp": 1601928162477,
     "user": {
      "displayName": "Lucas Almeida Rocha",
      "photoUrl": "",
      "userId": "10237817634386723741"
     },
     "user_tz": 180
    },
    "id": "BZ1Mjyv9VmV_",
    "outputId": "31f342db-295e-4ae2-ef00-a7d8397570f7"
   },
   "outputs": [
    {
     "data": {
      "text/html": [
       "<table border=\"1\" class=\"dataframe\">\n",
       "  <thead>\n",
       "    <tr style=\"text-align: left;\">\n",
       "      <th>epoch</th>\n",
       "      <th>train_loss</th>\n",
       "      <th>valid_loss</th>\n",
       "      <th>time</th>\n",
       "    </tr>\n",
       "  </thead>\n",
       "  <tbody>\n",
       "    <tr>\n",
       "      <td>0</td>\n",
       "      <td>0.006353</td>\n",
       "      <td>0.006404</td>\n",
       "      <td>00:23</td>\n",
       "    </tr>\n",
       "    <tr>\n",
       "      <td>1</td>\n",
       "      <td>0.006392</td>\n",
       "      <td>0.006440</td>\n",
       "      <td>00:23</td>\n",
       "    </tr>\n",
       "    <tr>\n",
       "      <td>2</td>\n",
       "      <td>0.006234</td>\n",
       "      <td>0.006220</td>\n",
       "      <td>00:23</td>\n",
       "    </tr>\n",
       "    <tr>\n",
       "      <td>3</td>\n",
       "      <td>0.006029</td>\n",
       "      <td>0.006085</td>\n",
       "      <td>00:23</td>\n",
       "    </tr>\n",
       "    <tr>\n",
       "      <td>4</td>\n",
       "      <td>0.005865</td>\n",
       "      <td>0.006039</td>\n",
       "      <td>00:23</td>\n",
       "    </tr>\n",
       "  </tbody>\n",
       "</table>"
      ],
      "text/plain": [
       "<IPython.core.display.HTML object>"
      ]
     },
     "metadata": {
      "tags": []
     },
     "output_type": "display_data"
    }
   ],
   "source": [
    "l6.fit_one_cycle(5, lr_max=slice(1e-5,1e-3))"
   ]
  },
  {
   "cell_type": "code",
   "execution_count": null,
   "metadata": {
    "id": "SGm1JqJDVmWB"
   },
   "outputs": [],
   "source": [
    "l6.path = Path('')\n",
    "\n",
    "l6.save('models/02_cnn6_ep10')"
   ]
  },
  {
   "cell_type": "markdown",
   "metadata": {
    "id": "KmSVtL-OuPGz"
   },
   "source": [
    "We did it! Our validation loss is less than 0.0065, it is 0.0060."
   ]
  },
  {
   "cell_type": "markdown",
   "metadata": {
    "id": "71c3BCLOuabA"
   },
   "source": [
    "## Results"
   ]
  },
  {
   "cell_type": "markdown",
   "metadata": {
    "id": "ZAiZ07rzucqC"
   },
   "source": [
    "Let's now check how good the predictions are."
   ]
  },
  {
   "cell_type": "code",
   "execution_count": null,
   "metadata": {
    "colab": {
     "base_uri": "https://localhost:8080/",
     "height": 17
    },
    "executionInfo": {
     "elapsed": 3180,
     "status": "ok",
     "timestamp": 1601928181334,
     "user": {
      "displayName": "Lucas Almeida Rocha",
      "photoUrl": "",
      "userId": "10237817634386723741"
     },
     "user_tz": 180
    },
    "id": "aQFI9fndVSTZ",
    "outputId": "581b759a-9426-4e5d-a782-70500190b7ee"
   },
   "outputs": [
    {
     "data": {
      "text/html": [],
      "text/plain": [
       "<IPython.core.display.HTML object>"
      ]
     },
     "metadata": {
      "tags": []
     },
     "output_type": "display_data"
    }
   ],
   "source": [
    "preds, targets, losses = l6.get_preds(with_loss=True)"
   ]
  },
  {
   "cell_type": "markdown",
   "metadata": {
    "id": "FDJsNYYru2my"
   },
   "source": [
    "On the left we show predictions that had the ten worst losses. On the right we show the targets."
   ]
  },
  {
   "cell_type": "code",
   "execution_count": null,
   "metadata": {
    "colab": {
     "base_uri": "https://localhost:8080/",
     "height": 427
    },
    "executionInfo": {
     "elapsed": 916,
     "status": "ok",
     "timestamp": 1601928194535,
     "user": {
      "displayName": "Lucas Almeida Rocha",
      "photoUrl": "",
      "userId": "10237817634386723741"
     },
     "user_tz": 180
    },
    "id": "ZmdKjm0YVSTc",
    "outputId": "9b6933eb-0578-44bb-a2f6-347e0c00a1a2"
   },
   "outputs": [
    {
     "data": {
      "image/png": "[encoded data removed]",
      "text/plain": [
       "<Figure size 72x72 with 1 Axes>"
      ]
     },
     "metadata": {
      "needs_background": "light",
      "tags": []
     },
     "output_type": "display_data"
    },
    {
     "data": {
      "image/png": "[encoded data removed]",
      "text/plain": [
       "<Figure size 72x72 with 1 Axes>"
      ]
     },
     "metadata": {
      "needs_background": "light",
      "tags": []
     },
     "output_type": "display_data"
    },
    {
     "data": {
      "image/png": "[encoded data removed]",
      "text/plain": [
       "<Figure size 72x72 with 1 Axes>"
      ]
     },
     "metadata": {
      "needs_background": "light",
      "tags": []
     },
     "output_type": "display_data"
    },
    {
     "data": {
      "image/png": "[encoded data removed]",
      "text/plain": [
       "<Figure size 72x72 with 1 Axes>"
      ]
     },
     "metadata": {
      "needs_background": "light",
      "tags": []
     },
     "output_type": "display_data"
    },
    {
     "data": {
      "image/png": "[encoded data removed]",
      "text/plain": [
       "<Figure size 72x72 with 1 Axes>"
      ]
     },
     "metadata": {
      "needs_background": "light",
      "tags": []
     },
     "output_type": "display_data"
    },
    {
     "data": {
      "image/png": "[encoded data removed]",
      "text/plain": [
       "<Figure size 72x72 with 1 Axes>"
      ]
     },
     "metadata": {
      "needs_background": "light",
      "tags": []
     },
     "output_type": "display_data"
    },
    {
     "data": {
      "image/png": "[encoded data removed]",
      "text/plain": [
       "<Figure size 72x72 with 1 Axes>"
      ]
     },
     "metadata": {
      "needs_background": "light",
      "tags": []
     },
     "output_type": "display_data"
    },
    {
     "data": {
      "image/png": "[encoded data removed]",
      "text/plain": [
       "<Figure size 72x72 with 1 Axes>"
      ]
     },
     "metadata": {
      "needs_background": "light",
      "tags": []
     },
     "output_type": "display_data"
    },
    {
     "data": {
      "image/png": "[encoded data removed]",
      "text/plain": [
       "<Figure size 72x72 with 1 Axes>"
      ]
     },
     "metadata": {
      "needs_background": "light",
      "tags": []
     },
     "output_type": "display_data"
    },
    {
     "data": {
      "image/png": "[encoded data removed]",
      "text/plain": [
       "<Figure size 72x72 with 1 Axes>"
      ]
     },
     "metadata": {
      "needs_background": "light",
      "tags": []
     },
     "output_type": "display_data"
    }
   ],
   "source": [
    "_, indices = torch.sort(losses, descending=True)\n",
    "\n",
    "for i in indices[:10]:\n",
    "  show_image(torch.cat([preds, torch.ones(preds.shape[0],1,28,1), targets], dim=3)[i], cmap='Greys_r')"
   ]
  },
  {
   "cell_type": "markdown",
   "metadata": {
    "id": "eSwesj_juufQ"
   },
   "source": [
    "It seems nice, even the worst predictions could capture some details of the handwritten digits.\n",
    "\n",
    "Let's calculate the same metrics we used in part 1."
   ]
  },
  {
   "cell_type": "code",
   "execution_count": null,
   "metadata": {
    "colab": {
     "base_uri": "https://localhost:8080/",
     "height": 34
    },
    "executionInfo": {
     "elapsed": 588,
     "status": "ok",
     "timestamp": 1601928207077,
     "user": {
      "displayName": "Lucas Almeida Rocha",
      "photoUrl": "",
      "userId": "10237817634386723741"
     },
     "user_tz": 180
    },
    "id": "7ouIQuAYVSTe",
    "outputId": "c953ac87-59b5-473f-c2d6-2c76bc3251c2"
   },
   "outputs": [
    {
     "data": {
      "text/plain": [
       "(tensor(6.7603), tensor(18.8619))"
      ]
     },
     "execution_count": 83,
     "metadata": {
      "tags": []
     },
     "output_type": "execute_result"
    }
   ],
   "source": [
    "I_preds = ((preds*100)-1)*(255/99)\n",
    "I_targets = ((targets*100)-1)*(255/99)\n",
    "\n",
    "I_error = torch.abs(I_preds - I_targets)\n",
    "\n",
    "I_mean = torch.mean(I_error)\n",
    "I_std = torch.std(I_error)\n",
    "\n",
    "I_mean, I_std"
   ]
  },
  {
   "cell_type": "markdown",
   "metadata": {
    "id": "d5-H8sGbvkMC"
   },
   "source": [
    "In part 1, the mean was 8.5 and the standard deviation was 19. Our new model got a mean equals to 6.7 and standard deviation equals to 18.9.\n",
    "\n",
    "So we did it! We beat the model created in part 1, even though here we added noise in the data and, in part 1, we did not. Of course, we could try to keep improving the model. For instance, we could do some hyper-parameter tweaking, we could train the whole model at once, we could add more layers, etc. However, this is left as an exercise for the reader 😆."
   ]
  }
 ],
 "metadata": {
  "colab": {
   "authorship_tag": "ABX9TyN9Zzlzkw41SP3s7LVorzaV",
   "collapsed_sections": [],
   "name": "02_elastography_noise.ipynb",
   "provenance": []
  },
  "kernelspec": {
   "display_name": "Python 3",
   "language": "python",
   "name": "python3"
  },
  "language_info": {
   "codemirror_mode": {
    "name": "ipython",
    "version": 3
   },
   "file_extension": ".py",
   "mimetype": "text/x-python",
   "name": "python",
   "nbconvert_exporter": "python",
   "pygments_lexer": "ipython3",
   "version": "3.8.2"
  }
 },
 "nbformat": 4,
 "nbformat_minor": 1
}
